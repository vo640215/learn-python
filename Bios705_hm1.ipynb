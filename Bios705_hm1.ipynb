{
 "metadata": {
  "name": "",
  "signature": "sha256:ce9329a8761972eb0ca484c4bb52382eb24624e244c27ba47e1c2b6987798259"
 },
 "nbformat": 3,
 "nbformat_minor": 0,
 "worksheets": [
  {
   "cells": [
    {
     "cell_type": "code",
     "collapsed": false,
     "input": [
      "%matplotlib inline\n",
      "import matplotlib.pyplot as plt\n",
      "import numpy as np\n",
      "import numpy.linalg as la\n",
      "from numpy import dot, diag"
     ],
     "language": "python",
     "metadata": {},
     "outputs": [],
     "prompt_number": 48
    },
    {
     "cell_type": "markdown",
     "metadata": {},
     "source": [
      "1. Let $M$ be a square matrix defined as\n",
      "\n",
      "$$\n",
      "M = \\begin{bmatrix}\n",
      "7 & 2 & 1 & 4 \\\\\n",
      "2 & 2 & 0 & 0 \\\\\n",
      "3 & 0 & 0 & 0 \\\\\n",
      "2 & 0 & 0 & 2 \\end{bmatrix}\n",
      "$$"
     ]
    },
    {
     "cell_type": "code",
     "collapsed": false,
     "input": [
      "M=array([7,2,1,4,2,2,0,0,3,0,3,0,2,0,0,2]).reshape(4,4)\n",
      "M"
     ],
     "language": "python",
     "metadata": {},
     "outputs": [
      {
       "metadata": {},
       "output_type": "pyout",
       "prompt_number": 12,
       "text": [
        "array([[7, 2, 1, 4],\n",
        "       [2, 2, 0, 0],\n",
        "       [3, 0, 3, 0],\n",
        "       [2, 0, 0, 2]])"
       ]
      }
     ],
     "prompt_number": 12
    },
    {
     "cell_type": "markdown",
     "metadata": {},
     "source": [
      "a) Find a $g$-inverse of the following matrix such that it does not coantain any zero entry."
     ]
    },
    {
     "cell_type": "code",
     "collapsed": false,
     "input": [
      "np.set_printoptions(precision=4)\n",
      "# computing the G inverse using pinv\n",
      "pinv = linalg.pinv(M)\n",
      "# computing the G inverse using the SVD decomposition\n",
      "def ginv(Matrix):\n",
      "    \"\"\"Generalized inverse of a matrix.\"\"\"\n",
      "    U, s ,V = linalg.svd(Matrix)\n",
      "    s[s < 1e-10] = 0\n",
      "    sinv = np.where(s > 0, 1.0/s, 0)\n",
      "    ginverse=dot(dot(V.T, diag(sinv)), U.T)\n",
      "    return ginverse,s\n",
      "\n",
      "giverse, s = ginv(M)\n",
      "print \"Inverse computed by lingal.pinv()\\n\",pinv\n",
      "print \"Inverse computed using SVD\\n\",giverse"
     ],
     "language": "python",
     "metadata": {},
     "outputs": [
      {
       "output_type": "stream",
       "stream": "stdout",
       "text": [
        "Inverse computed by lingal.pinv()\n",
        "[[ 0.0659  0.0591  0.0614 -0.0068]\n",
        " [ 0.0159  0.3591 -0.0886 -0.1568]\n",
        " [-0.0477 -0.0773  0.2659 -0.0295]\n",
        " [ 0.0977 -0.2227 -0.1159  0.1795]]\n",
        "Inverse computed using SVD\n",
        "[[ 0.0659  0.0591  0.0614 -0.0068]\n",
        " [ 0.0159  0.3591 -0.0886 -0.1568]\n",
        " [-0.0477 -0.0773  0.2659 -0.0295]\n",
        " [ 0.0977 -0.2227 -0.1159  0.1795]]\n"
       ]
      }
     ],
     "prompt_number": 13
    },
    {
     "cell_type": "markdown",
     "metadata": {},
     "source": [
      "b) Show that the diagonal elements of $\\sum$ are the non-negative square roots of eigen values of $MM'$ or $M'M$."
     ]
    },
    {
     "cell_type": "code",
     "collapsed": false,
     "input": [
      "va1,vec1=eig(dot(M,M.T))\n",
      "va2,vec2=eig(dot(M.T,M))\n",
      "va1[va1< 1e-10] = 0\n",
      "va2[va2< 1e-10] = 0\n",
      "# sorted will give you a list which is not good\n",
      "#print sorted(sqrt(va1),reverse=True) \n",
      "#print sorted(sqrt(va2),reverse=True)\n",
      "print np.sort(sqrt(va1))[::-1]\n",
      "print np.sort(sqrt(va2))[::-1]\n",
      "print s"
     ],
     "language": "python",
     "metadata": {},
     "outputs": [
      {
       "output_type": "stream",
       "stream": "stdout",
       "text": [
        "[ 9.5136  3.0525  2.043   0.    ]\n",
        "[ 9.5136  3.0525  2.043   0.    ]\n",
        "[ 9.5136  3.0525  2.043   0.    ]\n"
       ]
      }
     ],
     "prompt_number": 14
    },
    {
     "cell_type": "markdown",
     "metadata": {},
     "source": [
      "2.The susceptibility of catfish to a certain chemical pollutant was determined by immersing individual fish in 2 liters of an emulsion containing the pollutant and measuring the survival time in minutes. The data were collected on a sample of 18 fish as the common log (Log10) of survival time and the common log concentration of the pollutant in parts per million (ppm). "
     ]
    },
    {
     "cell_type": "markdown",
     "metadata": {},
     "source": [
      "a) Produce the scatter plot of the data. Determine the estimated linear regression line and plot the line on the scatter plot."
     ]
    },
    {
     "cell_type": "code",
     "collapsed": false,
     "input": [
      "! cat /Users/Gaoang/Downloads/HW1-prob4.dat"
     ],
     "language": "python",
     "metadata": {},
     "outputs": [
      {
       "output_type": "stream",
       "stream": "stdout",
       "text": [
        "FISH\tLOGSUR\tLOGCONC\r",
        "\r\n",
        "1\t2.516\t5\r",
        "\r\n",
        "2\t2.572\t5\r",
        "\r\n",
        "3\t2.438\t5\r",
        "\r\n",
        "4\t2.621\t4.8\r",
        "\r\n",
        "5\t2.742\t4.8\r",
        "\r\n",
        "6\t2.689\t4.8\r",
        "\r\n",
        "7\t2.83\t4.6\r",
        "\r\n",
        "8\t2.91\t4.6\r",
        "\r\n",
        "9\t2.983\t4.6\r",
        "\r\n",
        "10\t3.175\t4.4\r",
        "\r\n",
        "11\t3.056\t4.4\r",
        "\r\n",
        "12\t3.095\t4.4\r",
        "\r\n",
        "13\t3.332\t4.2\r",
        "\r\n",
        "14\t3.221\t4.2\r",
        "\r\n",
        "15\t3.293\t4.2\r",
        "\r\n",
        "16\t3.447\t4\r",
        "\r\n",
        "17\t3.523\t4\r",
        "\r\n",
        "18\t3.551\t4\r",
        "\r\n"
       ]
      }
     ],
     "prompt_number": 15
    },
    {
     "cell_type": "code",
     "collapsed": false,
     "input": [
      "import pandas as pd\n",
      "Hm_dat4=pd.read_csv('/Users/Gaoang/Downloads/HW1-prob4.dat',sep='\\t')\n",
      "Hm_dat4.head(5)"
     ],
     "language": "python",
     "metadata": {},
     "outputs": [
      {
       "html": [
        "<div style=\"max-height:1000px;max-width:1500px;overflow:auto;\">\n",
        "<table border=\"1\" class=\"dataframe\">\n",
        "  <thead>\n",
        "    <tr style=\"text-align: right;\">\n",
        "      <th></th>\n",
        "      <th>FISH</th>\n",
        "      <th>LOGSUR</th>\n",
        "      <th>LOGCONC</th>\n",
        "    </tr>\n",
        "  </thead>\n",
        "  <tbody>\n",
        "    <tr>\n",
        "      <th>0</th>\n",
        "      <td> 1</td>\n",
        "      <td> 2.516</td>\n",
        "      <td> 5.0</td>\n",
        "    </tr>\n",
        "    <tr>\n",
        "      <th>1</th>\n",
        "      <td> 2</td>\n",
        "      <td> 2.572</td>\n",
        "      <td> 5.0</td>\n",
        "    </tr>\n",
        "    <tr>\n",
        "      <th>2</th>\n",
        "      <td> 3</td>\n",
        "      <td> 2.438</td>\n",
        "      <td> 5.0</td>\n",
        "    </tr>\n",
        "    <tr>\n",
        "      <th>3</th>\n",
        "      <td> 4</td>\n",
        "      <td> 2.621</td>\n",
        "      <td> 4.8</td>\n",
        "    </tr>\n",
        "    <tr>\n",
        "      <th>4</th>\n",
        "      <td> 5</td>\n",
        "      <td> 2.742</td>\n",
        "      <td> 4.8</td>\n",
        "    </tr>\n",
        "  </tbody>\n",
        "</table>\n",
        "<p>5 rows \u00d7 3 columns</p>\n",
        "</div>"
       ],
       "metadata": {},
       "output_type": "pyout",
       "prompt_number": 3,
       "text": [
        "   FISH  LOGSUR  LOGCONC\n",
        "0     1   2.516      5.0\n",
        "1     2   2.572      5.0\n",
        "2     3   2.438      5.0\n",
        "3     4   2.621      4.8\n",
        "4     5   2.742      4.8\n",
        "\n",
        "[5 rows x 3 columns]"
       ]
      }
     ],
     "prompt_number": 3
    },
    {
     "cell_type": "code",
     "collapsed": false,
     "input": [
      "LOGSUR=Hm_dat4[\"LOGSUR\"]\n",
      "LOGCONC=Hm_dat4[\"LOGCONC\"]"
     ],
     "language": "python",
     "metadata": {},
     "outputs": [],
     "prompt_number": 4
    },
    {
     "cell_type": "code",
     "collapsed": false,
     "input": [
      "from scipy import stats\n",
      "import statsmodels.formula.api as sm\n",
      "import matplotlib.pyplot as plt\n",
      "#slope, intercept, r_value, p_value, std=stats.linregress(LOGCONC,LOGSUR)\n",
      "#scatter(LOGCONC,LOGSUR)\n",
      "model=sm.ols(formula='LOGSUR~LOGCONC',data=Hm_dat4)\n",
      "fitted=model.fit()\n",
      "print fitted.summary()"
     ],
     "language": "python",
     "metadata": {},
     "outputs": [
      {
       "output_type": "stream",
       "stream": "stdout",
       "text": [
        "                            OLS Regression Results                            \n",
        "==============================================================================\n",
        "Dep. Variable:                 LOGSUR   R-squared:                       0.977\n",
        "Model:                            OLS   Adj. R-squared:                  0.975\n",
        "Method:                 Least Squares   F-statistic:                     667.7\n",
        "Date:                Thu, 19 Jun 2014   Prob (F-statistic):           1.78e-14\n",
        "Time:                        13:38:38   Log-Likelihood:                 27.411\n",
        "No. Observations:                  18   AIC:                            -50.82\n",
        "Df Residuals:                      16   BIC:                            -49.04\n",
        "Df Model:                           1                                         \n",
        "==============================================================================\n",
        "                 coef    std err          t      P>|t|      [95.0% Conf. Int.]\n",
        "------------------------------------------------------------------------------\n",
        "Intercept      7.4911      0.174     42.975      0.000         7.122     7.861\n",
        "LOGCONC       -0.9981      0.039    -25.840      0.000        -1.080    -0.916\n",
        "==============================================================================\n",
        "Omnibus:                        2.864   Durbin-Watson:                   1.940\n",
        "Prob(Omnibus):                  0.239   Jarque-Bera (JB):                1.172\n",
        "Skew:                          -0.054   Prob(JB):                        0.556\n",
        "Kurtosis:                       1.755   Cond. No.                         62.5\n",
        "==============================================================================\n"
       ]
      },
      {
       "output_type": "stream",
       "stream": "stderr",
       "text": [
        "/Users/Gaoang/anaconda/lib/python2.7/site-packages/scipy/stats/stats.py:1293: UserWarning: kurtosistest only valid for n>=20 ... continuing anyway, n=18\n",
        "  int(n))\n"
       ]
      }
     ],
     "prompt_number": 5
    },
    {
     "cell_type": "code",
     "collapsed": false,
     "input": [
      "scatter(LOGCONC,LOGSUR)\n",
      "plt.plot(LOGCONC,fitted.fittedvalues)\n",
      "plt.legend(['Fitted model','Data'])\n",
      "#plt.xlim() \n",
      "plt.xlabel('LOGCONC')\n",
      "plt.ylabel('LOGSUR')\n",
      "plt.title('Linear regression')"
     ],
     "language": "python",
     "metadata": {},
     "outputs": [
      {
       "metadata": {},
       "output_type": "pyout",
       "prompt_number": 6,
       "text": [
        "<matplotlib.text.Text at 0x1090cb050>"
       ]
      },
      {
       "metadata": {},
       "output_type": "display_data",
       "png": "[encoded data removed]",
       "text": [
        "<matplotlib.figure.Figure at 0x10909add0>"
       ]
      }
     ],
     "prompt_number": 6
    },
    {
     "cell_type": "code",
     "collapsed": false,
     "input": [
      "from statsmodels.graphics.api import interaction_plot, abline_plot"
     ],
     "language": "python",
     "metadata": {},
     "outputs": [],
     "prompt_number": 7
    },
    {
     "cell_type": "code",
     "collapsed": false,
     "input": [
      "#construct the 95% confidence interval for the true slope\n",
      "fitted.conf_int()"
     ],
     "language": "python",
     "metadata": {},
     "outputs": [
      {
       "html": [
        "<div style=\"max-height:1000px;max-width:1500px;overflow:auto;\">\n",
        "<table border=\"1\" class=\"dataframe\">\n",
        "  <thead>\n",
        "    <tr style=\"text-align: right;\">\n",
        "      <th></th>\n",
        "      <th>0</th>\n",
        "      <th>1</th>\n",
        "    </tr>\n",
        "  </thead>\n",
        "  <tbody>\n",
        "    <tr>\n",
        "      <th>Intercept</th>\n",
        "      <td> 7.121566</td>\n",
        "      <td> 7.860624</td>\n",
        "    </tr>\n",
        "    <tr>\n",
        "      <th>LOGCONC</th>\n",
        "      <td>-1.079977</td>\n",
        "      <td>-0.916213</td>\n",
        "    </tr>\n",
        "  </tbody>\n",
        "</table>\n",
        "<p>2 rows \u00d7 2 columns</p>\n",
        "</div>"
       ],
       "metadata": {},
       "output_type": "pyout",
       "prompt_number": 8,
       "text": [
        "                  0         1\n",
        "Intercept  7.121566  7.860624\n",
        "LOGCONC   -1.079977 -0.916213\n",
        "\n",
        "[2 rows x 2 columns]"
       ]
      }
     ],
     "prompt_number": 8
    },
    {
     "cell_type": "code",
     "collapsed": false,
     "input": [
      "# construct the ANOVA table for this data\n",
      "from statsmodels.stats.anova import anova_lm\n",
      "anova_table=anova_lm(fitted)\n",
      "print anova_table"
     ],
     "language": "python",
     "metadata": {},
     "outputs": [
      {
       "output_type": "stream",
       "stream": "stdout",
       "text": [
        "          df    sum_sq   mean_sq           F        PR(>F)\n",
        "LOGCONC    1  2.092008  2.092008  667.727967  1.784667e-14\n",
        "Residual  16  0.050128  0.003133         NaN           NaN\n",
        "\n",
        "[2 rows x 5 columns]\n"
       ]
      }
     ],
     "prompt_number": 9
    },
    {
     "cell_type": "code",
     "collapsed": false,
     "input": [
      "#normal probability plot for the residuals from the fitted model\n",
      "stats.probplot(fitted.resid,dist=\"norm\",plot=pylab)\n",
      "pylab.show()"
     ],
     "language": "python",
     "metadata": {},
     "outputs": [
      {
       "metadata": {},
       "output_type": "display_data",
       "png": "[encoded data removed]",
       "text": [
        "<matplotlib.figure.Figure at 0x10599b590>"
       ]
      }
     ],
     "prompt_number": 8
    },
    {
     "cell_type": "markdown",
     "metadata": {},
     "source": [
      "3.A hospital administrator planned to study the relationship between patient satisfaction Y (as response), patient\u2019s age (X1), severity of illness (X2, an index), and anxiety level (X3, an index). Data was collected on randomly selected 46 patients"
     ]
    },
    {
     "cell_type": "code",
     "collapsed": false,
     "input": [
      "Hm_dat6=pd.read_csv('/Users/Gaoang/Downloads/HW1-prob6.dat',sep=r\"\\s*\")\n",
      "y=Hm_dat6[\"y\"]\n",
      "x1=Hm_dat6[\"x1\"]\n",
      "x2=Hm_dat6[\"x2\"]\n",
      "x3=Hm_dat6[\"x3\"]"
     ],
     "language": "python",
     "metadata": {},
     "outputs": [],
     "prompt_number": 21
    },
    {
     "cell_type": "code",
     "collapsed": false,
     "input": [
      "# Fit a regression model\n",
      "mod=sm.ols(formula='y~x1+x2+x3',data=Hm_dat6)\n",
      "fitted_mod=mod.fit()\n",
      "print fitted_mod.summary()"
     ],
     "language": "python",
     "metadata": {},
     "outputs": [
      {
       "output_type": "stream",
       "stream": "stdout",
       "text": [
        "                            OLS Regression Results                            \n",
        "==============================================================================\n",
        "Dep. Variable:                      y   R-squared:                       0.682\n",
        "Model:                            OLS   Adj. R-squared:                  0.659\n",
        "Method:                 Least Squares   F-statistic:                     30.05\n",
        "Date:                Thu, 19 Jun 2014   Prob (F-statistic):           1.54e-10\n",
        "Time:                        13:55:12   Log-Likelihood:                -169.36\n",
        "No. Observations:                  46   AIC:                             346.7\n",
        "Df Residuals:                      42   BIC:                             354.0\n",
        "Df Model:                           3                                         \n",
        "==============================================================================\n",
        "                 coef    std err          t      P>|t|      [95.0% Conf. Int.]\n",
        "------------------------------------------------------------------------------\n",
        "Intercept    158.4913     18.126      8.744      0.000       121.912   195.071\n",
        "x1            -1.1416      0.215     -5.315      0.000        -1.575    -0.708\n",
        "x2            -0.4420      0.492     -0.898      0.374        -1.435     0.551\n",
        "x3           -13.4702      7.100     -1.897      0.065       -27.798     0.858\n",
        "==============================================================================\n",
        "Omnibus:                        5.219   Durbin-Watson:                   2.183\n",
        "Prob(Omnibus):                  0.074   Jarque-Bera (JB):                2.074\n",
        "Skew:                          -0.098   Prob(JB):                        0.354\n",
        "Kurtosis:                       1.978   Cond. No.                         782.\n",
        "==============================================================================\n"
       ]
      }
     ],
     "prompt_number": 22
    },
    {
     "cell_type": "code",
     "collapsed": false,
     "input": [
      "# normal probability plot\n",
      "stats.probplot(fitted_mod.resid,dist=\"norm\",plot=pylab)\n",
      "pylab.show()"
     ],
     "language": "python",
     "metadata": {},
     "outputs": [
      {
       "metadata": {},
       "output_type": "display_data",
       "png": "[encoded data removed]",
       "text": [
        "<matplotlib.figure.Figure at 0x108c5c810>"
       ]
      }
     ],
     "prompt_number": 23
    },
    {
     "cell_type": "code",
     "collapsed": false,
     "input": [
      "# correlation matrix\n",
      "np.corrcoef(y,[x1,x2,x3])"
     ],
     "language": "python",
     "metadata": {},
     "outputs": [
      {
       "metadata": {},
       "output_type": "pyout",
       "prompt_number": 24,
       "text": [
        "array([[ 1.        , -0.78675552, -0.60294174, -0.64459099],\n",
        "       [-0.78675552,  1.        ,  0.56795047,  0.56967748],\n",
        "       [-0.60294174,  0.56795047,  1.        ,  0.67052865],\n",
        "       [-0.64459099,  0.56967748,  0.67052865,  1.        ]])"
       ]
      }
     ],
     "prompt_number": 24
    },
    {
     "cell_type": "code",
     "collapsed": false,
     "input": [
      "#diagnostic plots\n",
      "%load_ext rpy2.ipython\n",
      "%R -i y,x1,x2,x3 \n",
      "%R layout(matrix(c(1,2,3,4),2,2)); plot(lm(y~x1+x2+x3))"
     ],
     "language": "python",
     "metadata": {},
     "outputs": [
      {
       "metadata": {},
       "output_type": "display_data",
       "png": "[encoded data removed]"
      }
     ],
     "prompt_number": 25
    },
    {
     "cell_type": "code",
     "collapsed": false,
     "input": [
      "# Partial and semi-partial correlation\n",
      "%%R\n",
      "install.packages('ppcor')\n",
      "library(ppcor)\n",
      "pcor.test(y,x1,x3)\n",
      "spcor.test(y,x2,x3)"
     ],
     "language": "python",
     "metadata": {},
     "outputs": []
    },
    {
     "cell_type": "markdown",
     "metadata": {},
     "source": [
      "Squared partial_correlation $rYX1|X3$"
     ]
    },
    {
     "cell_type": "code",
     "collapsed": false,
     "input": [
      "fittedx1x3=sm.ols(formula='y~x1+x3',data=Hm_dat6).fit()\n",
      "SSEx1x3=anova_lm(fittedx1x3)['sum_sq'][2]\n",
      "fittedx3=sm.ols(formula='y~x3',data=Hm_dat6).fit()\n",
      "SSEx3=anova_lm(fittedx3)['sum_sq'][1]\n",
      "squared_partial_correlationyx1x3=(SSEx3-SSEx1x3)/SSEx3\n",
      "print squared_partial_correlationyx1x3"
     ],
     "language": "python",
     "metadata": {},
     "outputs": [
      {
       "output_type": "stream",
       "stream": "stdout",
       "text": [
        "0.445830183973\n"
       ]
      }
     ],
     "prompt_number": 34
    },
    {
     "cell_type": "markdown",
     "metadata": {},
     "source": [
      "Partial_correlation $rYX1|X3$"
     ]
    },
    {
     "cell_type": "code",
     "collapsed": false,
     "input": [
      "# Partial and semi-partial correlation\n",
      "from scipy.stats.stats import pearsonr\n",
      "partial_correlationyx1x3=(pearsonr(x1,y)[0]-pearsonr(x3,y)[0]*pearsonr(x1,x3)[0])/sqrt((1-pearsonr(x3,y)[0]**2)*(1-pearsonr(x1,x3)[0]**2))\n",
      "print partial_correlationyx1x3"
     ],
     "language": "python",
     "metadata": {},
     "outputs": [
      {
       "output_type": "stream",
       "stream": "stdout",
       "text": [
        "-0.667705162458\n"
       ]
      }
     ],
     "prompt_number": 45
    },
    {
     "cell_type": "code",
     "collapsed": false,
     "input": [
      "#model selection based on adjusted R^2 Cp AIC BIC\n",
      "# forward, backward and stepwise selection"
     ],
     "language": "python",
     "metadata": {},
     "outputs": [],
     "prompt_number": 47
    }
   ],
   "metadata": {}
  }
 ]
}