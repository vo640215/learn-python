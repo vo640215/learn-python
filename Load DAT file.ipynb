{
 "metadata": {
  "name": "",
  "signature": "sha256:109cf01be62fbcee920174047d965dbcbf72462c0f4489570009e7de8f4bf81d"
 },
 "nbformat": 3,
 "nbformat_minor": 0,
 "worksheets": [
  {
   "cells": [
    {
     "cell_type": "code",
     "collapsed": false,
     "input": [
      "%matplotlib inline\n",
      "import matplotlib.pyplot as plt\n",
      "import numpy as np"
     ],
     "language": "python",
     "metadata": {},
     "outputs": [],
     "prompt_number": 11
    },
    {
     "cell_type": "code",
     "collapsed": false,
     "input": [
      "ls"
     ],
     "language": "python",
     "metadata": {},
     "outputs": [
      {
       "output_type": "stream",
       "stream": "stdout",
       "text": [
        "HW1-prob4.dat      Hussein_hm1.ipynb  Untitled3.ipynb\r\n",
        "HW1-prob6.dat      Untitled0.ipynb\r\n"
       ]
      }
     ],
     "prompt_number": 1
    },
    {
     "cell_type": "code",
     "collapsed": false,
     "input": [
      "! cat HW1-prob4.dat"
     ],
     "language": "python",
     "metadata": {},
     "outputs": [
      {
       "output_type": "stream",
       "stream": "stdout",
       "text": [
        "FISH\tLOGSUR\tLOGCONC\r",
        "\r\n",
        "1\t2.516\t5\r",
        "\r\n",
        "2\t2.572\t5\r",
        "\r\n",
        "3\t2.438\t5\r",
        "\r\n",
        "4\t2.621\t4.8\r",
        "\r\n",
        "5\t2.742\t4.8\r",
        "\r\n",
        "6\t2.689\t4.8\r",
        "\r\n",
        "7\t2.83\t4.6\r",
        "\r\n",
        "8\t2.91\t4.6\r",
        "\r\n",
        "9\t2.983\t4.6\r",
        "\r\n",
        "10\t3.175\t4.4\r",
        "\r\n",
        "11\t3.056\t4.4\r",
        "\r\n",
        "12\t3.095\t4.4\r",
        "\r\n",
        "13\t3.332\t4.2\r",
        "\r\n",
        "14\t3.221\t4.2\r",
        "\r\n",
        "15\t3.293\t4.2\r",
        "\r\n",
        "16\t3.447\t4\r",
        "\r\n",
        "17\t3.523\t4\r",
        "\r\n",
        "18\t3.551\t4\r",
        "\r\n"
       ]
      }
     ],
     "prompt_number": 3
    },
    {
     "cell_type": "code",
     "collapsed": false,
     "input": [],
     "language": "python",
     "metadata": {},
     "outputs": []
    },
    {
     "cell_type": "code",
     "collapsed": true,
     "input": [],
     "language": "python",
     "metadata": {},
     "outputs": []
    },
    {
     "cell_type": "code",
     "collapsed": true,
     "input": [
      "import pandas as pd\n",
      "\n",
      "df = pd.read_csv('HW1-prob4.dat', sep='\\t')"
     ],
     "language": "python",
     "metadata": {},
     "outputs": [],
     "prompt_number": 7
    },
    {
     "cell_type": "code",
     "collapsed": false,
     "input": [
      "df.head(6)"
     ],
     "language": "python",
     "metadata": {},
     "outputs": [
      {
       "html": [
        "<div style=\"max-height:1000px;max-width:1500px;overflow:auto;\">\n",
        "<table border=\"1\" class=\"dataframe\">\n",
        "  <thead>\n",
        "    <tr style=\"text-align: right;\">\n",
        "      <th></th>\n",
        "      <th>FISH</th>\n",
        "      <th>LOGSUR</th>\n",
        "      <th>LOGCONC</th>\n",
        "    </tr>\n",
        "  </thead>\n",
        "  <tbody>\n",
        "    <tr>\n",
        "      <th>0</th>\n",
        "      <td> 1</td>\n",
        "      <td> 2.516</td>\n",
        "      <td> 5.0</td>\n",
        "    </tr>\n",
        "    <tr>\n",
        "      <th>1</th>\n",
        "      <td> 2</td>\n",
        "      <td> 2.572</td>\n",
        "      <td> 5.0</td>\n",
        "    </tr>\n",
        "    <tr>\n",
        "      <th>2</th>\n",
        "      <td> 3</td>\n",
        "      <td> 2.438</td>\n",
        "      <td> 5.0</td>\n",
        "    </tr>\n",
        "    <tr>\n",
        "      <th>3</th>\n",
        "      <td> 4</td>\n",
        "      <td> 2.621</td>\n",
        "      <td> 4.8</td>\n",
        "    </tr>\n",
        "    <tr>\n",
        "      <th>4</th>\n",
        "      <td> 5</td>\n",
        "      <td> 2.742</td>\n",
        "      <td> 4.8</td>\n",
        "    </tr>\n",
        "    <tr>\n",
        "      <th>5</th>\n",
        "      <td> 6</td>\n",
        "      <td> 2.689</td>\n",
        "      <td> 4.8</td>\n",
        "    </tr>\n",
        "  </tbody>\n",
        "</table>\n",
        "<p>6 rows \u00d7 3 columns</p>\n",
        "</div>"
       ],
       "metadata": {},
       "output_type": "pyout",
       "prompt_number": 16,
       "text": [
        "   FISH  LOGSUR  LOGCONC\n",
        "0     1   2.516      5.0\n",
        "1     2   2.572      5.0\n",
        "2     3   2.438      5.0\n",
        "3     4   2.621      4.8\n",
        "4     5   2.742      4.8\n",
        "5     6   2.689      4.8\n",
        "\n",
        "[6 rows x 3 columns]"
       ]
      }
     ],
     "prompt_number": 16
    },
    {
     "cell_type": "code",
     "collapsed": false,
     "input": [
      "from scipy.stats import probplot\n",
      "\n",
      "probplot(np.random.randn(100), plot=plt);"
     ],
     "language": "python",
     "metadata": {},
     "outputs": [
      {
       "metadata": {},
       "output_type": "display_data",
       "png": "[encoded data removed]",
       "text": [
        "<matplotlib.figure.Figure at 0x10ab2ca90>"
       ]
      }
     ],
     "prompt_number": 15
    },
    {
     "cell_type": "code",
     "collapsed": false,
     "input": [
      "probplot?"
     ],
     "language": "python",
     "metadata": {},
     "outputs": [],
     "prompt_number": 13
    },
    {
     "cell_type": "code",
     "collapsed": false,
     "input": [],
     "language": "python",
     "metadata": {},
     "outputs": []
    }
   ],
   "metadata": {}
  }
 ]
}