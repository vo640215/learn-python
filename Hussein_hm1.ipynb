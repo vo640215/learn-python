{
 "metadata": {
  "name": "",
  "signature": "sha256:025cd3238e3061f7fcfc7427edae4b8e41e04f561fed174a7f0a8445ecc183a1"
 },
 "nbformat": 3,
 "nbformat_minor": 0,
 "worksheets": [
  {
   "cells": [
    {
     "cell_type": "code",
     "collapsed": false,
     "input": [
      "%matplotlib inline\n",
      "import matplotlib.pyplot as plt\n",
      "import numpy as np\n",
      "import numpy.linalg as la\n",
      "from numpy import dot, diag\n"
     ],
     "language": "python",
     "metadata": {},
     "outputs": [],
     "prompt_number": 25
    },
    {
     "cell_type": "markdown",
     "metadata": {},
     "source": [
      "1. Let $M$ be a square matrix defined as\n",
      "\n",
      "$$\n",
      "M = \\begin{bmatrix}\n",
      "7 & 2 & 1 & 4 \\\\\n",
      "2 & 2 & 0 & 0 \\\\\n",
      "3 & 0 & 0 & 0 \\\\\n",
      "2 & 0 & 0 & 2 \\end{bmatrix}\n",
      "$$"
     ]
    },
    {
     "cell_type": "markdown",
     "metadata": {},
     "source": [
      "a) Find a $g$-inverse of the following matrix such that it does not coantain any zero entry."
     ]
    },
    {
     "cell_type": "code",
     "collapsed": false,
     "input": [
      "M = np.array([7,2,1,4,2,2,0,0,3,0,3,0,2,0,0,2]).reshape(4,4)\n",
      "M"
     ],
     "language": "python",
     "metadata": {},
     "outputs": [
      {
       "metadata": {},
       "output_type": "pyout",
       "prompt_number": 27,
       "text": [
        "array([[7, 2, 1, 4],\n",
        "       [2, 2, 0, 0],\n",
        "       [3, 0, 3, 0],\n",
        "       [2, 0, 0, 2]])"
       ]
      }
     ],
     "prompt_number": 27
    },
    {
     "cell_type": "code",
     "collapsed": false,
     "input": [
      "U, s ,V = la.svd(M)\n",
      "print U, '\\n'\n",
      "print s, '\\n'\n",
      "print V"
     ],
     "language": "python",
     "metadata": {},
     "outputs": [
      {
       "output_type": "stream",
       "stream": "stdout",
       "text": [
        "[[-0.87544263  0.25800623 -0.05828061 -0.40451992]\n",
        " [-0.22806571  0.05997828  0.88360187  0.40451992]\n",
        " [-0.33086248 -0.93021199 -0.08398729  0.13483997]\n",
        " [-0.26854471  0.25404931 -0.45694336  0.80903983]] \n",
        "\n",
        "[  9.51358658e+00   3.05250212e+00   2.04301277e+00   3.17432337e-16] \n",
        "\n",
        "[[-0.85287568 -0.23198577 -0.19635392 -0.42453599]\n",
        " [-0.1168016   0.20834352 -0.82968975  0.50454463]\n",
        " [ 0.09465967  0.80794528 -0.15185538 -0.56143023]\n",
        " [-0.5         0.5         0.5         0.5       ]]\n"
       ]
      }
     ],
     "prompt_number": 24
    },
    {
     "cell_type": "code",
     "collapsed": true,
     "input": [
      "np.set_printoptions(precision=4)\n",
      "\n",
      "def ginv(M):\n",
      "    \"\"\"Generalized inverse of a matrix.\"\"\"\n",
      "    \n",
      "    U, s ,V = la.svd(M)\n",
      "    s[s < 1e-10] = 0\n",
      "    sinv = np.where(s > 0, 1.0/s, 0)\n",
      "    return dot(dot(V.T, diag(sinv)), U.T)\n",
      "\n",
      "ginv(M)"
     ],
     "language": "python",
     "metadata": {},
     "outputs": [
      {
       "metadata": {},
       "output_type": "pyout",
       "prompt_number": 58,
       "text": [
        "array([[ 0.0659,  0.0591,  0.0614, -0.0068],\n",
        "       [ 0.0159,  0.3591, -0.0886, -0.1568],\n",
        "       [-0.0477, -0.0773,  0.2659, -0.0295],\n",
        "       [ 0.0977, -0.2227, -0.1159,  0.1795]])"
       ]
      }
     ],
     "prompt_number": 58
    },
    {
     "cell_type": "code",
     "collapsed": false,
     "input": [
      "%load_ext rpy2.ipython"
     ],
     "language": "python",
     "metadata": {},
     "outputs": [],
     "prompt_number": 20
    },
    {
     "cell_type": "code",
     "collapsed": false,
     "input": [
      "%%R -i M\n",
      "\n",
      "s <- svd(M)\n",
      "\n",
      "s$v %*% diag(1.0/s$d) %*% t(s$u)"
     ],
     "language": "python",
     "metadata": {},
     "outputs": [
      {
       "metadata": {},
       "output_type": "display_data",
       "text": [
        "              [,1]          [,2]          [,3]         [,4]\n",
        "[1,]  5.961448e+14 -5.961448e+14 -1.987149e+14 -1.19229e+15\n",
        "[2,] -5.961448e+14  5.961448e+14  1.987149e+14  1.19229e+15\n",
        "[3,] -5.961448e+14  5.961448e+14  1.987149e+14  1.19229e+15\n",
        "[4,] -5.961448e+14  5.961448e+14  1.987149e+14  1.19229e+15\n"
       ]
      }
     ],
     "prompt_number": 49
    },
    {
     "cell_type": "code",
     "collapsed": false,
     "input": [
      "%%R -i M\n",
      "\n",
      "svd(M)"
     ],
     "language": "python",
     "metadata": {},
     "outputs": [
      {
       "metadata": {},
       "output_type": "display_data",
       "text": [
        "$d\n",
        "[1] 9.513587e+00 3.052502e+00 2.043013e+00 3.392799e-16\n",
        "\n",
        "$u\n",
        "           [,1]        [,2]        [,3]       [,4]\n",
        "[1,] -0.8754426  0.25800623 -0.05828061 -0.4045199\n",
        "[2,] -0.2280657  0.05997828  0.88360187  0.4045199\n",
        "[3,] -0.3308625 -0.93021199 -0.08398729  0.1348400\n",
        "[4,] -0.2685447  0.25404931 -0.45694336  0.8090398\n",
        "\n",
        "$v\n",
        "           [,1]       [,2]        [,3] [,4]\n",
        "[1,] -0.8528757 -0.1168016  0.09465967 -0.5\n",
        "[2,] -0.2319858  0.2083435  0.80794528  0.5\n",
        "[3,] -0.1963539 -0.8296898 -0.15185538  0.5\n",
        "[4,] -0.4245360  0.5045446 -0.56143023  0.5\n",
        "\n"
       ]
      }
     ],
     "prompt_number": 50
    },
    {
     "cell_type": "code",
     "collapsed": false,
     "input": [
      "\n",
      "U,s,V = la.svd(M) # SVD decomposition of M\n",
      "print U.shape\n",
      "print s.shape\n",
      "print V.shape\n",
      "\n",
      "# computing the G inverse using pinv\n",
      "pinv = la.pinv(M)\n",
      "# computing the G inverse using the SVD decomposition\n",
      "pinv_svd = dot(dot(V.T,la.inv(diag(s))),np.transpose(U))\n",
      "print \"Inverse computed by lingal.pinv()\\n\",pinv\n",
      "print \"Inverse computed using SVD\\n\",pinv_svd"
     ],
     "language": "python",
     "metadata": {},
     "outputs": [
      {
       "output_type": "stream",
       "stream": "stdout",
       "text": [
        "(4, 4)\n",
        "(4,)\n",
        "(4, 4)\n",
        "Inverse computed by lingal.pinv()\n",
        "[[ 0.06590909  0.05909091  0.06136364 -0.00681818]\n",
        " [ 0.01590909  0.35909091 -0.08863636 -0.15681818]\n",
        " [-0.04772727 -0.07727273  0.26590909 -0.02954545]\n",
        " [ 0.09772727 -0.22272727 -0.11590909  0.17954545]]\n",
        "Inverse computed using SVD\n",
        "[[  6.37175029e+14  -6.37175029e+14  -2.12391676e+14  -1.27435006e+15]\n",
        " [ -6.37175029e+14   6.37175029e+14   2.12391676e+14   1.27435006e+15]\n",
        " [ -6.37175029e+14   6.37175029e+14   2.12391676e+14   1.27435006e+15]\n",
        " [ -6.37175029e+14   6.37175029e+14   2.12391676e+14   1.27435006e+15]]\n"
       ]
      }
     ],
     "prompt_number": 18
    },
    {
     "cell_type": "code",
     "collapsed": false,
     "input": [
      "A = floor(random.rand(4,4)*20-10) # generating a random\n",
      "b = floor(random.rand(4,1)*20-10) # system Ax=b\n",
      "\n",
      "U,s,V = linalg.svd(A) # SVD decomposition of A\n",
      "\n",
      "# computing the inverse using pinv\n",
      "pinv = linalg.pinv(A)\n",
      "# computing the inverse using the SVD decomposition\n",
      "pinv_svd = dot(dot(V.T,linalg.inv(diag(s))),U.T)\n",
      "\n",
      "print \"Inverse computed by lingal.pinv()\\n\",pinv\n",
      "print \"Inverse computed using SVD\\n\",pinv_svd"
     ],
     "language": "python",
     "metadata": {},
     "outputs": [
      {
       "output_type": "stream",
       "stream": "stdout",
       "text": [
        "Inverse computed by lingal.pinv()\n",
        "[[-0.18241042  0.1514658  -0.50895765 -0.67263844]\n",
        " [ 0.08794788 -0.24267101  0.45521173  0.63680782]\n",
        " [ 0.06188925 -0.0781759   0.31107492  0.54071661]\n",
        " [ 0.15960912 -0.07003257  0.28908795  0.52605863]]\n",
        "Inverse computed using SVD\n",
        "[[-0.18241042  0.1514658  -0.50895765 -0.67263844]\n",
        " [ 0.08794788 -0.24267101  0.45521173  0.63680782]\n",
        " [ 0.06188925 -0.0781759   0.31107492  0.54071661]\n",
        " [ 0.15960912 -0.07003257  0.28908795  0.52605863]]\n"
       ]
      }
     ],
     "prompt_number": 48
    },
    {
     "cell_type": "code",
     "collapsed": false,
     "input": [
      "w,v=eig(dot(M,transpose(M)))"
     ],
     "language": "python",
     "metadata": {},
     "outputs": [],
     "prompt_number": 65
    },
    {
     "cell_type": "code",
     "collapsed": false,
     "input": [
      "sqrt(w)"
     ],
     "language": "python",
     "metadata": {},
     "outputs": [
      {
       "metadata": {},
       "output_type": "pyout",
       "prompt_number": 71,
       "text": [
        "array([  9.51358658e+00,   3.05250212e+00,   7.05498418e-08,\n",
        "         2.04301277e+00])"
       ]
      }
     ],
     "prompt_number": 71
    },
    {
     "cell_type": "code",
     "collapsed": false,
     "input": [
      "s"
     ],
     "language": "python",
     "metadata": {},
     "outputs": [
      {
       "metadata": {},
       "output_type": "pyout",
       "prompt_number": 72,
       "text": [
        "array([  9.51358658e+00,   3.05250212e+00,   2.04301277e+00,\n",
        "         3.17432337e-16])"
       ]
      }
     ],
     "prompt_number": 72
    },
    {
     "cell_type": "code",
     "collapsed": false,
     "input": [
      "w"
     ],
     "language": "python",
     "metadata": {},
     "outputs": [
      {
       "metadata": {},
       "output_type": "pyout",
       "prompt_number": 74,
       "text": [
        "array([  9.05083296e+01,   9.31776921e+00,   4.97728018e-15,\n",
        "         4.17390120e+00])"
       ]
      }
     ],
     "prompt_number": 74
    },
    {
     "cell_type": "code",
     "collapsed": false,
     "input": [
      "import os\n",
      "import sys\n",
      "fi=open('HW1-prob4.dat')"
     ],
     "language": "python",
     "metadata": {},
     "outputs": [
      {
       "ename": "IOError",
       "evalue": "[Errno 2] No such file or directory: 'HW1-prob4.dat'",
       "output_type": "pyerr",
       "traceback": [
        "\u001b[0;31m---------------------------------------------------------------------------\u001b[0m\n\u001b[0;31mIOError\u001b[0m                                   Traceback (most recent call last)",
        "\u001b[0;32m<ipython-input-78-d67fb085396d>\u001b[0m in \u001b[0;36m<module>\u001b[0;34m()\u001b[0m\n\u001b[1;32m      1\u001b[0m \u001b[0;32mimport\u001b[0m \u001b[0mos\u001b[0m\u001b[0;34m\u001b[0m\u001b[0m\n\u001b[1;32m      2\u001b[0m \u001b[0;32mimport\u001b[0m \u001b[0msys\u001b[0m\u001b[0;34m\u001b[0m\u001b[0m\n\u001b[0;32m----> 3\u001b[0;31m \u001b[0mfi\u001b[0m\u001b[0;34m=\u001b[0m\u001b[0mopen\u001b[0m\u001b[0;34m(\u001b[0m\u001b[0;34m'HW1-prob4.dat'\u001b[0m\u001b[0;34m)\u001b[0m\u001b[0;34m\u001b[0m\u001b[0m\n\u001b[0m",
        "\u001b[0;31mIOError\u001b[0m: [Errno 2] No such file or directory: 'HW1-prob4.dat'"
       ]
      }
     ],
     "prompt_number": 78
    },
    {
     "cell_type": "code",
     "collapsed": false,
     "input": [],
     "language": "python",
     "metadata": {},
     "outputs": []
    }
   ],
   "metadata": {}
  }
 ]
}