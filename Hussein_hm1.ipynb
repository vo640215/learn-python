{
 "metadata": {
  "name": "",
  "signature": "sha256:ae5e0c1c9ffd46847a6ace34bde1ae5abf279d52385e0fcc5e35897a8c1af151"
 },
 "nbformat": 3,
 "nbformat_minor": 0,
 "worksheets": [
  {
   "cells": [
    {
     "cell_type": "code",
     "collapsed": false,
     "input": [
      "A = floor(random.rand(4,4)*20-10)\n",
      "A.shape\n",
      "A"
     ],
     "language": "python",
     "metadata": {},
     "outputs": [
      {
       "metadata": {},
       "output_type": "pyout",
       "prompt_number": 3,
       "text": [
        "array([[ -8.,   9.,   6.,  -6.],\n",
        "       [  1.,   3.,   4.,  -3.],\n",
        "       [  5.,   4.,   3.,  -8.],\n",
        "       [  5.,  -7., -10.,   5.]])"
       ]
      }
     ],
     "prompt_number": 3
    },
    {
     "cell_type": "code",
     "collapsed": false,
     "input": [
      "M=array([7,2,1,4,2,2,0,0,3,0,3,0,2,0,0,2]).reshape(4,4)"
     ],
     "language": "python",
     "metadata": {},
     "outputs": [],
     "prompt_number": 49
    },
    {
     "cell_type": "code",
     "collapsed": false,
     "input": [
      "M"
     ],
     "language": "python",
     "metadata": {},
     "outputs": [
      {
       "metadata": {},
       "output_type": "pyout",
       "prompt_number": 50,
       "text": [
        "array([[7, 2, 1, 4],\n",
        "       [2, 2, 0, 0],\n",
        "       [3, 0, 3, 0],\n",
        "       [2, 0, 0, 2]])"
       ]
      }
     ],
     "prompt_number": 50
    },
    {
     "cell_type": "code",
     "collapsed": false,
     "input": [
      "U,s,V = linalg.svd(M) # SVD decomposition of M\n",
      "# computing the G inverse using pinv\n",
      "pinv = linalg.pinv(M)\n",
      "# computing the G inverse using the SVD decomposition\n",
      "pinv_svd = dot(dot(V,linalg.inv(diag(s))),transpose(U))\n",
      "print \"Inverse computed by lingal.pinv()\\n\",pinv\n",
      "print \"Inverse computed using SVD\\n\",pinv_svd"
     ],
     "language": "python",
     "metadata": {},
     "outputs": [
      {
       "output_type": "stream",
       "stream": "stdout",
       "text": [
        "Inverse computed by lingal.pinv()\n",
        "[[ 0.06590909  0.05909091  0.06136364 -0.00681818]\n",
        " [ 0.01590909  0.35909091 -0.08863636 -0.15681818]\n",
        " [-0.04772727 -0.07727273  0.26590909 -0.02954545]\n",
        " [ 0.09772727 -0.22272727 -0.11590909  0.17954545]]\n",
        "Inverse computed using SVD\n",
        "[[  5.41007467e+14  -5.41007467e+14  -1.80335822e+14  -1.08201493e+15]\n",
        " [ -6.42966478e+14   6.42966478e+14   2.14322159e+14   1.28593296e+15]\n",
        " [  7.15458651e+14  -7.15458651e+14  -2.38486217e+14  -1.43091730e+15]\n",
        " [ -6.37175029e+14   6.37175029e+14   2.12391676e+14   1.27435006e+15]]\n"
       ]
      }
     ],
     "prompt_number": 56
    },
    {
     "cell_type": "code",
     "collapsed": false,
     "input": [
      "A = floor(random.rand(4,4)*20-10) # generating a random\n",
      "b = floor(random.rand(4,1)*20-10) # system Ax=b\n",
      "\n",
      "U,s,V = linalg.svd(A) # SVD decomposition of A\n",
      "\n",
      "# computing the inverse using pinv\n",
      "pinv = linalg.pinv(A)\n",
      "# computing the inverse using the SVD decomposition\n",
      "pinv_svd = dot(dot(V.T,linalg.inv(diag(s))),U.T)\n",
      "\n",
      "print \"Inverse computed by lingal.pinv()\\n\",pinv\n",
      "print \"Inverse computed using SVD\\n\",pinv_svd"
     ],
     "language": "python",
     "metadata": {},
     "outputs": [
      {
       "output_type": "stream",
       "stream": "stdout",
       "text": [
        "Inverse computed by lingal.pinv()\n",
        "[[-0.18241042  0.1514658  -0.50895765 -0.67263844]\n",
        " [ 0.08794788 -0.24267101  0.45521173  0.63680782]\n",
        " [ 0.06188925 -0.0781759   0.31107492  0.54071661]\n",
        " [ 0.15960912 -0.07003257  0.28908795  0.52605863]]\n",
        "Inverse computed using SVD\n",
        "[[-0.18241042  0.1514658  -0.50895765 -0.67263844]\n",
        " [ 0.08794788 -0.24267101  0.45521173  0.63680782]\n",
        " [ 0.06188925 -0.0781759   0.31107492  0.54071661]\n",
        " [ 0.15960912 -0.07003257  0.28908795  0.52605863]]\n"
       ]
      }
     ],
     "prompt_number": 48
    },
    {
     "cell_type": "code",
     "collapsed": false,
     "input": [
      "w,v=eig(dot(M,transpose(M)))"
     ],
     "language": "python",
     "metadata": {},
     "outputs": [],
     "prompt_number": 65
    },
    {
     "cell_type": "code",
     "collapsed": false,
     "input": [
      "sqrt(w)"
     ],
     "language": "python",
     "metadata": {},
     "outputs": [
      {
       "metadata": {},
       "output_type": "pyout",
       "prompt_number": 71,
       "text": [
        "array([  9.51358658e+00,   3.05250212e+00,   7.05498418e-08,\n",
        "         2.04301277e+00])"
       ]
      }
     ],
     "prompt_number": 71
    },
    {
     "cell_type": "code",
     "collapsed": false,
     "input": [
      "s"
     ],
     "language": "python",
     "metadata": {},
     "outputs": [
      {
       "metadata": {},
       "output_type": "pyout",
       "prompt_number": 72,
       "text": [
        "array([  9.51358658e+00,   3.05250212e+00,   2.04301277e+00,\n",
        "         3.17432337e-16])"
       ]
      }
     ],
     "prompt_number": 72
    },
    {
     "cell_type": "code",
     "collapsed": false,
     "input": [
      "w"
     ],
     "language": "python",
     "metadata": {},
     "outputs": [
      {
       "metadata": {},
       "output_type": "pyout",
       "prompt_number": 74,
       "text": [
        "array([  9.05083296e+01,   9.31776921e+00,   4.97728018e-15,\n",
        "         4.17390120e+00])"
       ]
      }
     ],
     "prompt_number": 74
    },
    {
     "cell_type": "code",
     "collapsed": false,
     "input": [
      "import os\n",
      "import sys\n",
      "fi=open('HW1-prob4.dat')"
     ],
     "language": "python",
     "metadata": {},
     "outputs": [
      {
       "ename": "IOError",
       "evalue": "[Errno 2] No such file or directory: 'HW1-prob4.dat'",
       "output_type": "pyerr",
       "traceback": [
        "\u001b[0;31m---------------------------------------------------------------------------\u001b[0m\n\u001b[0;31mIOError\u001b[0m                                   Traceback (most recent call last)",
        "\u001b[0;32m<ipython-input-78-d67fb085396d>\u001b[0m in \u001b[0;36m<module>\u001b[0;34m()\u001b[0m\n\u001b[1;32m      1\u001b[0m \u001b[0;32mimport\u001b[0m \u001b[0mos\u001b[0m\u001b[0;34m\u001b[0m\u001b[0m\n\u001b[1;32m      2\u001b[0m \u001b[0;32mimport\u001b[0m \u001b[0msys\u001b[0m\u001b[0;34m\u001b[0m\u001b[0m\n\u001b[0;32m----> 3\u001b[0;31m \u001b[0mfi\u001b[0m\u001b[0;34m=\u001b[0m\u001b[0mopen\u001b[0m\u001b[0;34m(\u001b[0m\u001b[0;34m'HW1-prob4.dat'\u001b[0m\u001b[0;34m)\u001b[0m\u001b[0;34m\u001b[0m\u001b[0m\n\u001b[0m",
        "\u001b[0;31mIOError\u001b[0m: [Errno 2] No such file or directory: 'HW1-prob4.dat'"
       ]
      }
     ],
     "prompt_number": 78
    },
    {
     "cell_type": "code",
     "collapsed": false,
     "input": [],
     "language": "python",
     "metadata": {},
     "outputs": []
    }
   ],
   "metadata": {}
  }
 ]
}