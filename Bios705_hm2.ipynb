{
 "metadata": {
  "name": "",
  "signature": "sha256:c9f0ebb2af8388038c95ca62e16cd299988a7f9688318baa34b4bb1de14cd1bc"
 },
 "nbformat": 3,
 "nbformat_minor": 0,
 "worksheets": [
  {
   "cells": [
    {
     "cell_type": "markdown",
     "metadata": {},
     "source": [
      "1. A hospital surgical unit was interested in predicting survival in patients undergoing a particular type of liver operation. A random selection of 54 patients was selected for analysis. The following variables were recorded on each patient:\n",
      "Y: survival time (in days)\n",
      "X1: blood clotting score\n",
      "X2: prognostic index\n",
      "X3: enzyme function test score\n",
      "X4: liver function test score\n",
      "X5: age (in years)\n",
      "X6: indicator variable for gender (0=male, 1=female)\n",
      "X7 and X8: indicator variables for history of alcohol use (none, moderate and severe)\n",
      "\n",
      "\\begin{equation}\n",
      "X7=\n",
      "\\begin{cases}\n",
      "1 \\hspace{8mm} Moderate \\\\\n",
      "0  \\hspace{8mm} otherwise\\\\\n",
      "\\end{cases}\n",
      "\\hspace{12mm}\n",
      "X8=\n",
      "\\begin{cases}\n",
      "1 \\hspace{8mm} Severe \\\\\n",
      "0  \\hspace{8mm} otherwise\\\\\n",
      "\\end{cases}\n",
      "\\end{equation}"
     ]
    },
    {
     "cell_type": "code",
     "collapsed": false,
     "input": [
      "! head /Users/Gaoang/Downloads/HW2-prob1.dat"
     ],
     "language": "python",
     "metadata": {},
     "outputs": [
      {
       "output_type": "stream",
       "stream": "stdout",
       "text": [
        "x1      x2      x3       x4     x5      x6      x7      x8       y\t\t\t\t\t\t\t\t\r",
        "\r\n",
        "6.7\t62\t81\t2.59\t50\t0\t1\t0\t695\r",
        "\r\n",
        "5.1\t59\t66\t1.7\t39\t0\t0\t0\t403\r",
        "\r\n",
        "7.4\t57\t83\t2.16\t55\t0\t0\t0\t710\r",
        "\r\n",
        "6.5\t73\t41\t2.01\t48\t0\t0\t0\t349\r",
        "\r\n",
        "7.8\t65\t115\t4.3\t45\t0\t0\t1\t2343\r",
        "\r\n",
        "5.8\t38\t72\t1.42\t65\t1\t1\t0\t348\r",
        "\r\n",
        "5.7\t46\t63\t1.91\t49\t1\t0\t1\t518\r",
        "\r\n",
        "3.7\t68\t81\t2.57\t69\t1\t1\t0\t749\r",
        "\r\n",
        "6\t67\t93\t2.5\t58\t0\t1\t0\t1056\r",
        "\r\n"
       ]
      }
     ],
     "prompt_number": 3
    },
    {
     "cell_type": "markdown",
     "metadata": {},
     "source": [
      "a) Fit a regression model with all predictor variables in the model. Determine the estimated regression model."
     ]
    },
    {
     "cell_type": "code",
     "collapsed": false,
     "input": [
      "import pandas as pd\n",
      "Hm2_dat1=pd.read_csv('/Users/Gaoang/Downloads/HW2-prob1.dat',sep=\"\\s*\")\n",
      "Hm2_dat1.head(5)"
     ],
     "language": "python",
     "metadata": {},
     "outputs": [
      {
       "html": [
        "<div style=\"max-height:1000px;max-width:1500px;overflow:auto;\">\n",
        "<table border=\"1\" class=\"dataframe\">\n",
        "  <thead>\n",
        "    <tr style=\"text-align: right;\">\n",
        "      <th></th>\n",
        "      <th>x1</th>\n",
        "      <th>x2</th>\n",
        "      <th>x3</th>\n",
        "      <th>x4</th>\n",
        "      <th>x5</th>\n",
        "      <th>x6</th>\n",
        "      <th>x7</th>\n",
        "      <th>x8</th>\n",
        "      <th>y</th>\n",
        "    </tr>\n",
        "  </thead>\n",
        "  <tbody>\n",
        "    <tr>\n",
        "      <th>0</th>\n",
        "      <td> 6.7</td>\n",
        "      <td> 62</td>\n",
        "      <td>  81</td>\n",
        "      <td> 2.59</td>\n",
        "      <td> 50</td>\n",
        "      <td> 0</td>\n",
        "      <td> 1</td>\n",
        "      <td> 0</td>\n",
        "      <td>  695</td>\n",
        "    </tr>\n",
        "    <tr>\n",
        "      <th>1</th>\n",
        "      <td> 5.1</td>\n",
        "      <td> 59</td>\n",
        "      <td>  66</td>\n",
        "      <td> 1.70</td>\n",
        "      <td> 39</td>\n",
        "      <td> 0</td>\n",
        "      <td> 0</td>\n",
        "      <td> 0</td>\n",
        "      <td>  403</td>\n",
        "    </tr>\n",
        "    <tr>\n",
        "      <th>2</th>\n",
        "      <td> 7.4</td>\n",
        "      <td> 57</td>\n",
        "      <td>  83</td>\n",
        "      <td> 2.16</td>\n",
        "      <td> 55</td>\n",
        "      <td> 0</td>\n",
        "      <td> 0</td>\n",
        "      <td> 0</td>\n",
        "      <td>  710</td>\n",
        "    </tr>\n",
        "    <tr>\n",
        "      <th>3</th>\n",
        "      <td> 6.5</td>\n",
        "      <td> 73</td>\n",
        "      <td>  41</td>\n",
        "      <td> 2.01</td>\n",
        "      <td> 48</td>\n",
        "      <td> 0</td>\n",
        "      <td> 0</td>\n",
        "      <td> 0</td>\n",
        "      <td>  349</td>\n",
        "    </tr>\n",
        "    <tr>\n",
        "      <th>4</th>\n",
        "      <td> 7.8</td>\n",
        "      <td> 65</td>\n",
        "      <td> 115</td>\n",
        "      <td> 4.30</td>\n",
        "      <td> 45</td>\n",
        "      <td> 0</td>\n",
        "      <td> 0</td>\n",
        "      <td> 1</td>\n",
        "      <td> 2343</td>\n",
        "    </tr>\n",
        "  </tbody>\n",
        "</table>\n",
        "<p>5 rows \u00d7 9 columns</p>\n",
        "</div>"
       ],
       "metadata": {},
       "output_type": "pyout",
       "prompt_number": 6,
       "text": [
        "    x1  x2   x3    x4  x5  x6  x7  x8     y\n",
        "0  6.7  62   81  2.59  50   0   1   0   695\n",
        "1  5.1  59   66  1.70  39   0   0   0   403\n",
        "2  7.4  57   83  2.16  55   0   0   0   710\n",
        "3  6.5  73   41  2.01  48   0   0   0   349\n",
        "4  7.8  65  115  4.30  45   0   0   1  2343\n",
        "\n",
        "[5 rows x 9 columns]"
       ]
      }
     ],
     "prompt_number": 6
    },
    {
     "cell_type": "code",
     "collapsed": false,
     "input": [
      "from scipy import stats\n",
      "import statsmodels.formula.api as sm\n",
      "import matplotlib.pyplot as plt\n",
      "model=sm.ols(formula='y~x1+x2+x3+x4+x5+x6+x7+x8',data=Hm2_dat1)\n",
      "fitted=model.fit()\n",
      "print fitted.summary()"
     ],
     "language": "python",
     "metadata": {},
     "outputs": [
      {
       "output_type": "stream",
       "stream": "stdout",
       "text": [
        "                            OLS Regression Results                            \n",
        "==============================================================================\n",
        "Dep. Variable:                      y   R-squared:                       0.782\n",
        "Model:                            OLS   Adj. R-squared:                  0.743\n",
        "Method:                 Least Squares   F-statistic:                     20.16\n",
        "Date:                Thu, 19 Jun 2014   Prob (F-statistic):           1.61e-12\n",
        "Time:                        18:03:43   Log-Likelihood:                -358.19\n",
        "No. Observations:                  54   AIC:                             734.4\n",
        "Df Residuals:                      45   BIC:                             752.3\n",
        "Df Model:                           8                                         \n",
        "==============================================================================\n",
        "                 coef    std err          t      P>|t|      [95.0% Conf. Int.]\n",
        "------------------------------------------------------------------------------\n",
        "Intercept  -1148.8230    242.328     -4.741      0.000     -1636.896  -660.750\n",
        "x1            62.3904     24.470      2.550      0.014        13.106   111.675\n",
        "x2             8.9731      1.874      4.788      0.000         5.199    12.748\n",
        "x3             9.8881      1.742      5.677      0.000         6.380    13.396\n",
        "x4            50.4127     44.959      1.121      0.268       -40.140   140.965\n",
        "x5            -0.9510      2.649     -0.359      0.721        -6.286     4.384\n",
        "x6            15.8743     58.475      0.271      0.787      -101.900   133.648\n",
        "x7             7.7131     64.956      0.119      0.906      -123.116   138.542\n",
        "x8           320.6969     85.070      3.770      0.000       149.357   492.037\n",
        "==============================================================================\n",
        "Omnibus:                       25.570   Durbin-Watson:                   1.628\n",
        "Prob(Omnibus):                  0.000   Jarque-Bera (JB):               57.343\n",
        "Skew:                           1.354   Prob(JB):                     3.53e-13\n",
        "Kurtosis:                       7.261   Cond. No.                     1.01e+03\n",
        "==============================================================================\n",
        "\n",
        "Warnings:\n",
        "[1] The condition number is large, 1.01e+03. This might indicate that there are\n",
        "strong multicollinearity or other numerical problems.\n"
       ]
      }
     ],
     "prompt_number": 11
    },
    {
     "cell_type": "markdown",
     "metadata": {},
     "source": [
      "b) Plot the residules against predicted values for the above fitted model. Examine these plots and summarize your findings."
     ]
    },
    {
     "cell_type": "code",
     "collapsed": false,
     "input": [
      "scatter(fitted.fittedvalues,fitted.resid)\n",
      "plt.xlabel('Fitted values')\n",
      "plt.ylabel('Residuals')\n",
      "plt.title('Residual vs fitted')"
     ],
     "language": "python",
     "metadata": {},
     "outputs": [
      {
       "metadata": {},
       "output_type": "pyout",
       "prompt_number": 16,
       "text": [
        "<matplotlib.text.Text at 0x109ab1ed0>"
       ]
      },
      {
       "metadata": {},
       "output_type": "display_data",
       "png": "[encoded data removed]",
       "text": [
        "<matplotlib.figure.Figure at 0x109a5ccd0>"
       ]
      }
     ],
     "prompt_number": 16
    },
    {
     "cell_type": "markdown",
     "metadata": {},
     "source": [
      "c) Examine the data for any influential cases and check for multicollinearity."
     ]
    },
    {
     "cell_type": "code",
     "collapsed": false,
     "input": [
      "#cooks distance\n",
      "influence=fitted.get_influence()\n",
      "distance,p_value=influence.cooks_distance\n",
      "plt.stem(np.arange(len(distance)),distance,markerfmt=',')"
     ],
     "language": "python",
     "metadata": {},
     "outputs": [
      {
       "metadata": {},
       "output_type": "pyout",
       "prompt_number": 20,
       "text": [
        "<Container object of 3 artists>"
       ]
      },
      {
       "metadata": {},
       "output_type": "display_data",
       "png": "[encoded data removed]",
       "text": [
        "<matplotlib.figure.Figure at 0x109a9f910>"
       ]
      }
     ],
     "prompt_number": 20
    },
    {
     "cell_type": "code",
     "collapsed": false,
     "input": [
      "#check for multicollinearity"
     ],
     "language": "python",
     "metadata": {},
     "outputs": []
    },
    {
     "cell_type": "markdown",
     "metadata": {},
     "source": [
      "d) Examine the interaction terms between any two predictors and summarize your findings. Refit the model with only interaction terms that are significant at 0.05 level."
     ]
    },
    {
     "cell_type": "code",
     "collapsed": false,
     "input": [
      "model2=sm.ols(formula='y~(x1+x2+x3+x4+x5+x6+x7+x8)**2-x7:x8',data=Hm2_dat1)\n",
      "fitted2=model2.fit()\n",
      "print fitted2.summary()"
     ],
     "language": "python",
     "metadata": {},
     "outputs": [
      {
       "output_type": "stream",
       "stream": "stdout",
       "text": [
        "                            OLS Regression Results                            \n",
        "==============================================================================\n",
        "Dep. Variable:                      y   R-squared:                       0.966\n",
        "Model:                            OLS   Adj. R-squared:                  0.899\n",
        "Method:                 Least Squares   F-statistic:                     14.52\n",
        "Date:                Thu, 19 Jun 2014   Prob (F-statistic):           9.73e-08\n",
        "Time:                        19:11:39   Log-Likelihood:                -308.17\n",
        "No. Observations:                  54   AIC:                             688.3\n",
        "Df Residuals:                      18   BIC:                             760.0\n",
        "Df Model:                          35                                         \n",
        "==============================================================================\n",
        "                 coef    std err          t      P>|t|      [95.0% Conf. Int.]\n",
        "------------------------------------------------------------------------------\n",
        "Intercept    939.1880   1185.556      0.792      0.439     -1551.572  3429.948\n",
        "x1           188.3549    245.311      0.768      0.453      -327.025   703.735\n",
        "x2             7.3146     18.145      0.403      0.692       -30.808    45.437\n",
        "x3           -14.3288     10.950     -1.309      0.207       -37.334     8.676\n",
        "x4         -1266.8533    612.064     -2.070      0.053     -2552.753    19.046\n",
        "x5             7.4777     28.136      0.266      0.793       -51.634    66.590\n",
        "x6          1104.1616    571.178      1.933      0.069       -95.839  2304.163\n",
        "x7          -468.9933    594.314     -0.789      0.440     -1717.601   779.614\n",
        "x8          -454.8375   1038.676     -0.438      0.667     -2637.015  1727.340\n",
        "x1:x2          2.1377      2.517      0.849      0.407        -3.150     7.425\n",
        "x1:x3         -1.8257      1.253     -1.457      0.162        -4.459     0.808\n",
        "x1:x4         25.0804     28.862      0.869      0.396       -35.556    85.717\n",
        "x1:x5         -3.0890      3.921     -0.788      0.441       -11.327     5.149\n",
        "x1:x6        -42.1743     49.074     -0.859      0.401      -145.276    60.927\n",
        "x1:x7         19.1179     61.529      0.311      0.760      -110.149   148.385\n",
        "x1:x8        105.9930     98.669      1.074      0.297      -101.303   313.289\n",
        "x2:x3          0.3215      0.124      2.596      0.018         0.061     0.582\n",
        "x2:x4         -3.0063      3.846     -0.782      0.445       -11.086     5.073\n",
        "x2:x5         -0.5603      0.286     -1.961      0.066        -1.160     0.040\n",
        "x2:x6          1.9824      4.419      0.449      0.659        -7.302    11.267\n",
        "x2:x7          1.0586      5.853      0.181      0.858       -11.238    13.355\n",
        "x2:x8          5.6126     10.264      0.547      0.591       -15.950    27.176\n",
        "x3:x4          7.0590      2.043      3.454      0.003         2.766    11.352\n",
        "x3:x5          0.1146      0.162      0.709      0.487        -0.225     0.454\n",
        "x3:x6        -14.8988      4.082     -3.650      0.002       -23.475    -6.322\n",
        "x3:x7         -3.0767      3.975     -0.774      0.449       -11.428     5.275\n",
        "x3:x8          6.0915      7.428      0.820      0.423        -9.513    21.696\n",
        "x4:x5         11.1159      7.793      1.426      0.171        -5.256    27.488\n",
        "x4:x6         76.3526     99.987      0.764      0.455      -133.713   286.418\n",
        "x4:x7        127.3912    138.690      0.919      0.370      -163.986   418.768\n",
        "x4:x8        -37.0798    213.427     -0.174      0.864      -485.474   411.315\n",
        "x5:x6          2.2535      5.775      0.390      0.701        -9.880    14.387\n",
        "x5:x7          4.7924      6.803      0.704      0.490        -9.499    19.084\n",
        "x5:x8         -9.8941     10.206     -0.969      0.345       -31.336    11.547\n",
        "x6:x7        -18.1992    155.961     -0.117      0.908      -345.860   309.462\n",
        "x6:x8       -379.0905    177.905     -2.131      0.047      -752.856    -5.325\n",
        "==============================================================================\n",
        "Omnibus:                       12.455   Durbin-Watson:                   1.743\n",
        "Prob(Omnibus):                  0.002   Jarque-Bera (JB):               20.752\n",
        "Skew:                          -0.673   Prob(JB):                     3.12e-05\n",
        "Kurtosis:                       5.723   Cond. No.                     5.26e+05\n",
        "==============================================================================\n",
        "\n",
        "Warnings:\n",
        "[1] The condition number is large, 5.26e+05. This might indicate that there are\n",
        "strong multicollinearity or other numerical problems.\n"
       ]
      }
     ],
     "prompt_number": 31
    },
    {
     "cell_type": "code",
     "collapsed": false,
     "input": [
      "model3=sm.ols(formula='y~x1+x2+x3+x4+x5+x6+x7+x8+x2:x3+x3:x4+x3:x6+x6:x8',data=Hm2_dat1)\n",
      "fitted3=model3.fit()\n",
      "print fitted3.summary()"
     ],
     "language": "python",
     "metadata": {},
     "outputs": [
      {
       "output_type": "stream",
       "stream": "stdout",
       "text": [
        "                            OLS Regression Results                            \n",
        "==============================================================================\n",
        "Dep. Variable:                      y   R-squared:                       0.860\n",
        "Model:                            OLS   Adj. R-squared:                  0.820\n",
        "Method:                 Least Squares   F-statistic:                     21.07\n",
        "Date:                Thu, 19 Jun 2014   Prob (F-statistic):           8.49e-14\n",
        "Time:                        19:14:26   Log-Likelihood:                -346.13\n",
        "No. Observations:                  54   AIC:                             718.3\n",
        "Df Residuals:                      41   BIC:                             744.1\n",
        "Df Model:                          12                                         \n",
        "==============================================================================\n",
        "                 coef    std err          t      P>|t|      [95.0% Conf. Int.]\n",
        "------------------------------------------------------------------------------\n",
        "Intercept    298.8853    452.597      0.660      0.513      -615.153  1212.923\n",
        "x1            75.3811     20.808      3.623      0.001        33.358   117.404\n",
        "x2            -0.1214      4.793     -0.025      0.980        -9.800     9.557\n",
        "x3            -6.7350      4.946     -1.362      0.181       -16.723     3.253\n",
        "x4          -461.2787    130.272     -3.541      0.001      -724.368  -198.190\n",
        "x5            -0.4543      2.240     -0.203      0.840        -4.979     4.070\n",
        "x6           779.0833    211.072      3.691      0.001       352.815  1205.351\n",
        "x7           -27.0147     56.132     -0.481      0.633      -140.375    86.346\n",
        "x8           245.4829     92.107      2.665      0.011        59.469   431.497\n",
        "x2:x3          0.0762      0.054      1.424      0.162        -0.032     0.184\n",
        "x3:x4          6.2187      1.536      4.048      0.000         3.116     9.321\n",
        "x3:x6         -9.3716      2.627     -3.567      0.001       -14.678    -4.066\n",
        "x6:x8        -60.8617    127.214     -0.478      0.635      -317.776   196.053\n",
        "==============================================================================\n",
        "Omnibus:                        2.178   Durbin-Watson:                   1.595\n",
        "Prob(Omnibus):                  0.336   Jarque-Bera (JB):                2.091\n",
        "Skew:                           0.416   Prob(JB):                        0.351\n",
        "Kurtosis:                       2.514   Cond. No.                     1.06e+05\n",
        "==============================================================================\n",
        "\n",
        "Warnings:\n",
        "[1] The condition number is large, 1.06e+05. This might indicate that there are\n",
        "strong multicollinearity or other numerical problems.\n"
       ]
      }
     ],
     "prompt_number": 32
    },
    {
     "cell_type": "markdown",
     "metadata": {},
     "source": [
      "e) Assuming a model without interaction, using model selection criteria such as ($R^2$,$C_p$, AIC, BIC, backward elimination) and determine the \u2019best\u2019 model."
     ]
    },
    {
     "cell_type": "markdown",
     "metadata": {},
     "source": [
      "f) Implement Box-Cox transformation on the response variable Y and suggest a suitable transformation (if any)."
     ]
    },
    {
     "cell_type": "code",
     "collapsed": false,
     "input": [
      "stats.boxcox(Hm2_dat1['y'])"
     ],
     "language": "python",
     "metadata": {},
     "outputs": [
      {
       "metadata": {},
       "output_type": "pyout",
       "prompt_number": 61,
       "text": [
        "(array([ 4.96482151,  4.65229108,  4.9767622 ,  4.5672371 ,  5.60967718,\n",
        "         4.5655296 ,  4.79813319,  5.0065659 ,  5.19468461,  5.14757377,\n",
        "         5.00358779,  4.38268073,  5.40585925,  5.08165756,  4.97042839,\n",
        "         5.04926738,  4.95424371,  4.24307978,  4.83247983,  5.06868656,\n",
        "         4.58402474,  4.57401424,  4.88106659,  4.84480232,  4.92810752,\n",
        "         5.00804847,  4.82725881,  5.52056587,  4.750586  ,  4.88201257,\n",
        "         4.7076503 ,  4.16498659,  4.66382823,  5.1848842 ,  4.75661797,\n",
        "         4.91319303,  4.95094479,  4.58896191,  4.9158564 ,  4.97281273,\n",
        "         4.81772821,  4.8647166 ,  5.29339974,  4.8198611 ,  4.75661797,\n",
        "         4.89230648,  5.1430615 ,  5.30577487,  4.86373869,  5.2057954 ,\n",
        "         4.65519859,  4.86177737,  4.83247983,  4.92810752]),\n",
        " -0.08867777273950278)"
       ]
      }
     ],
     "prompt_number": 61
    },
    {
     "cell_type": "markdown",
     "metadata": {},
     "source": [
      "g) Repeat parts (a), (b) and (e) on the transformed data and summarize the findings."
     ]
    },
    {
     "cell_type": "code",
     "collapsed": false,
     "input": [
      "modelnew=sm.ols(formula='np.log(y)~x1+x2+x3+x4+x5+x6+x7+x8',data=Hm2_dat1)\n",
      "fittednew=modelnew.fit()\n",
      "print fittednew.summary()"
     ],
     "language": "python",
     "metadata": {},
     "outputs": [
      {
       "output_type": "stream",
       "stream": "stdout",
       "text": [
        "                            OLS Regression Results                            \n",
        "==============================================================================\n",
        "Dep. Variable:                 log(y)   R-squared:                       0.846\n",
        "Model:                            OLS   Adj. R-squared:                  0.819\n",
        "Method:                 Least Squares   F-statistic:                     30.93\n",
        "Date:                Thu, 19 Jun 2014   Prob (F-statistic):           7.82e-16\n",
        "Time:                        19:15:29   Log-Likelihood:                 12.766\n",
        "No. Observations:                  54   AIC:                            -7.532\n",
        "Df Residuals:                      45   BIC:                             10.37\n",
        "Df Model:                           8                                         \n",
        "==============================================================================\n",
        "                 coef    std err          t      P>|t|      [95.0% Conf. Int.]\n",
        "------------------------------------------------------------------------------\n",
        "Intercept      4.0509      0.252     16.092      0.000         3.544     4.558\n",
        "x1             0.0686      0.025      2.697      0.010         0.017     0.120\n",
        "x2             0.0135      0.002      6.913      0.000         0.010     0.017\n",
        "x3             0.0149      0.002      8.261      0.000         0.011     0.019\n",
        "x4             0.0079      0.047      0.170      0.866        -0.086     0.102\n",
        "x5            -0.0036      0.003     -1.296      0.201        -0.009     0.002\n",
        "x6             0.0842      0.061      1.385      0.173        -0.038     0.206\n",
        "x7             0.0573      0.067      0.849      0.400        -0.079     0.193\n",
        "x8             0.3882      0.088      4.393      0.000         0.210     0.566\n",
        "==============================================================================\n",
        "Omnibus:                        2.256   Durbin-Watson:                   1.840\n",
        "Prob(Omnibus):                  0.324   Jarque-Bera (JB):                1.726\n",
        "Skew:                           0.263   Prob(JB):                        0.422\n",
        "Kurtosis:                       2.300   Cond. No.                     1.01e+03\n",
        "==============================================================================\n",
        "\n",
        "Warnings:\n",
        "[1] The condition number is large, 1.01e+03. This might indicate that there are\n",
        "strong multicollinearity or other numerical problems.\n"
       ]
      }
     ],
     "prompt_number": 33
    },
    {
     "cell_type": "code",
     "collapsed": false,
     "input": [
      "scatter(fittednew.fittedvalues,fittednew.resid)\n",
      "plt.xlabel('Fitted values')\n",
      "plt.ylabel('Residuals')\n",
      "plt.title('Residual vs fitted')"
     ],
     "language": "python",
     "metadata": {},
     "outputs": [
      {
       "metadata": {},
       "output_type": "pyout",
       "prompt_number": 34,
       "text": [
        "<matplotlib.text.Text at 0x10a381ed0>"
       ]
      },
      {
       "metadata": {},
       "output_type": "display_data",
       "png": "[encoded data removed]",
       "text": [
        "<matplotlib.figure.Figure at 0x10a029650>"
       ]
      }
     ],
     "prompt_number": 34
    },
    {
     "cell_type": "markdown",
     "metadata": {},
     "source": [
      "2 . Use the QUET data (quet.txt) from lecture 2, where sbp = systolic blood pressure, quet= quetelet index, age and smk = smoking history (1=yes, 0=no) and answer the following questions:"
     ]
    },
    {
     "cell_type": "markdown",
     "metadata": {},
     "source": [
      "a) Fit a regression model with all the predictors in the model and state the estimated regression equation."
     ]
    },
    {
     "cell_type": "code",
     "collapsed": false,
     "input": [
      "! head /Users/Gaoang/Downloads/QUET.txt"
     ],
     "language": "python",
     "metadata": {},
     "outputs": [
      {
       "output_type": "stream",
       "stream": "stdout",
       "text": [
        "sbp QUET age smk\r",
        "\r\n",
        "135 2.876 45 0\r",
        "\r\n",
        "122 3.251 41 0\r",
        "\r\n",
        "130 3.100 49 0\r",
        "\r\n",
        "148 3.768 52 0\r",
        "\r\n",
        "146 2.979 54 1\r",
        "\r\n",
        "129 2.790 47 1\r",
        "\r\n",
        "162 3.668 60 1\r",
        "\r\n",
        "160 3.612 48 1\r",
        "\r\n",
        "144 2.368 44 1\r",
        "\r\n"
       ]
      }
     ],
     "prompt_number": 62
    },
    {
     "cell_type": "code",
     "collapsed": false,
     "input": [
      "Hm2_dat2=pd.read_csv('/Users/Gaoang/Downloads/QUET.txt',sep=\"\\s*\")\n",
      "Hm2_dat2.head(5)"
     ],
     "language": "python",
     "metadata": {},
     "outputs": [
      {
       "html": [
        "<div style=\"max-height:1000px;max-width:1500px;overflow:auto;\">\n",
        "<table border=\"1\" class=\"dataframe\">\n",
        "  <thead>\n",
        "    <tr style=\"text-align: right;\">\n",
        "      <th></th>\n",
        "      <th>sbp</th>\n",
        "      <th>QUET</th>\n",
        "      <th>age</th>\n",
        "      <th>smk</th>\n",
        "    </tr>\n",
        "  </thead>\n",
        "  <tbody>\n",
        "    <tr>\n",
        "      <th>0</th>\n",
        "      <td> 135</td>\n",
        "      <td> 2.876</td>\n",
        "      <td> 45</td>\n",
        "      <td> 0</td>\n",
        "    </tr>\n",
        "    <tr>\n",
        "      <th>1</th>\n",
        "      <td> 122</td>\n",
        "      <td> 3.251</td>\n",
        "      <td> 41</td>\n",
        "      <td> 0</td>\n",
        "    </tr>\n",
        "    <tr>\n",
        "      <th>2</th>\n",
        "      <td> 130</td>\n",
        "      <td> 3.100</td>\n",
        "      <td> 49</td>\n",
        "      <td> 0</td>\n",
        "    </tr>\n",
        "    <tr>\n",
        "      <th>3</th>\n",
        "      <td> 148</td>\n",
        "      <td> 3.768</td>\n",
        "      <td> 52</td>\n",
        "      <td> 0</td>\n",
        "    </tr>\n",
        "    <tr>\n",
        "      <th>4</th>\n",
        "      <td> 146</td>\n",
        "      <td> 2.979</td>\n",
        "      <td> 54</td>\n",
        "      <td> 1</td>\n",
        "    </tr>\n",
        "  </tbody>\n",
        "</table>\n",
        "<p>5 rows \u00d7 4 columns</p>\n",
        "</div>"
       ],
       "metadata": {},
       "output_type": "pyout",
       "prompt_number": 65,
       "text": [
        "   sbp   QUET  age  smk\n",
        "0  135  2.876   45    0\n",
        "1  122  3.251   41    0\n",
        "2  130  3.100   49    0\n",
        "3  148  3.768   52    0\n",
        "4  146  2.979   54    1\n",
        "\n",
        "[5 rows x 4 columns]"
       ]
      }
     ],
     "prompt_number": 65
    },
    {
     "cell_type": "code",
     "collapsed": false,
     "input": [
      "model2_1=sm.ols(formula='sbp~QUET+age+smk',data=Hm2_dat2)\n",
      "fitted2_1=model2_1.fit()\n",
      "print fitted2_1.summary()"
     ],
     "language": "python",
     "metadata": {},
     "outputs": [
      {
       "output_type": "stream",
       "stream": "stdout",
       "text": [
        "                            OLS Regression Results                            \n",
        "==============================================================================\n",
        "Dep. Variable:                    sbp   R-squared:                       0.761\n",
        "Model:                            OLS   Adj. R-squared:                  0.735\n",
        "Method:                 Least Squares   F-statistic:                     29.71\n",
        "Date:                Thu, 19 Jun 2014   Prob (F-statistic):           7.60e-09\n",
        "Time:                        23:16:15   Log-Likelihood:                -107.35\n",
        "No. Observations:                  32   AIC:                             222.7\n",
        "Df Residuals:                      28   BIC:                             228.6\n",
        "Df Model:                           3                                         \n",
        "==============================================================================\n",
        "                 coef    std err          t      P>|t|      [95.0% Conf. Int.]\n",
        "------------------------------------------------------------------------------\n",
        "Intercept     45.1032     10.765      4.190      0.000        23.052    67.154\n",
        "QUET           8.5924      4.499      1.910      0.066        -0.623    17.808\n",
        "age            1.2127      0.324      3.745      0.001         0.549     1.876\n",
        "smk            9.9456      2.656      3.744      0.001         4.505    15.386\n",
        "==============================================================================\n",
        "Omnibus:                        1.079   Durbin-Watson:                   1.180\n",
        "Prob(Omnibus):                  0.583   Jarque-Bera (JB):                0.889\n",
        "Skew:                           0.391   Prob(JB):                        0.641\n",
        "Kurtosis:                       2.764   Cond. No.                         444.\n",
        "==============================================================================\n"
       ]
      }
     ],
     "prompt_number": 66
    },
    {
     "cell_type": "markdown",
     "metadata": {},
     "source": [
      "b) Using the estimated model in part (a), write-down separate regression lines for smokers and non-smokers."
     ]
    },
    {
     "cell_type": "markdown",
     "metadata": {},
     "source": [
      "c) Assuming no interaction between quet and age, state the hypothesis to test whether the equations in part (b) are parallel and how would you test this hypothesis? Summarize your results and provide the p-value."
     ]
    },
    {
     "cell_type": "code",
     "collapsed": false,
     "input": [
      "from statsmodels.stats.anova import anova_lm\n",
      "model2_2=sm.ols(formula='sbp~(QUET+age+smk)**2-QUET:age',data=Hm2_dat2)\n",
      "fitted2_2=model2_2.fit()\n",
      "anova_table1=anova_lm(fitted2_1,fitted2_2)\n",
      "print anova_table1"
     ],
     "language": "python",
     "metadata": {},
     "outputs": [
      {
       "output_type": "stream",
       "stream": "stdout",
       "text": [
        "   df_resid          ssr  df_diff    ss_diff        F    Pr(>F)\n",
        "0        28  1536.143053        0        NaN      NaN       NaN\n",
        "1        26  1510.338354        2  25.804699  0.22211  0.802331\n",
        "\n",
        "[2 rows x 6 columns]\n"
       ]
      }
     ],
     "prompt_number": 79
    },
    {
     "cell_type": "markdown",
     "metadata": {},
     "source": [
      "d) Same assumption in part (c), test if the two regression lines coincide or not."
     ]
    },
    {
     "cell_type": "code",
     "collapsed": false,
     "input": [
      "model2_3=sm.ols(formula='sbp~QUET+age',data=Hm2_dat2)\n",
      "fitted2_3=model2_3.fit()\n",
      "anova_table2=anova_lm(fitted2_3,fitted2_2)\n",
      "print anova_table2"
     ],
     "language": "python",
     "metadata": {},
     "outputs": [
      {
       "output_type": "stream",
       "stream": "stdout",
       "text": [
        "   df_resid          ssr  df_diff     ss_diff         F   Pr(>F)\n",
        "0        29  2305.376505        0         NaN       NaN      NaN\n",
        "1        26  1510.338354        3  795.038151  4.562111  0.01071\n",
        "\n",
        "[2 rows x 6 columns]\n"
       ]
      }
     ],
     "prompt_number": 80
    }
   ],
   "metadata": {}
  }
 ]
}