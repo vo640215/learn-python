{
 "metadata": {
  "name": "",
  "signature": "sha256:eaa9d89cd207aada938e97d76ff487c6198e562253cf7966b1f86aee73f82356"
 },
 "nbformat": 3,
 "nbformat_minor": 0,
 "worksheets": [
  {
   "cells": [
    {
     "cell_type": "code",
     "collapsed": false,
     "input": [
      "import urllib2\n",
      "response = urllib2.urlopen('http://www.gutenberg.org/cache/epub/1342/pg1342.txt')\n",
      "html = response.read()"
     ],
     "language": "python",
     "metadata": {},
     "outputs": [],
     "prompt_number": 1
    },
    {
     "cell_type": "code",
     "collapsed": false,
     "input": [
      "def complement(seq):\n",
      "    comp = []\n",
      "    rule = {\"A\" : \"T\", \"T\" : \"A\", \"G\" : \"C\", \"C\" : \"G\"}\n",
      "    for nu in seq:\n",
      "        comp.append(rule[nu])\n",
      "    comp = ''.join(comp)\n",
      "    return comp[::-1]\n",
      "complement(\"AATTC\")\n",
      "print complement(\"AATTC\")\n"
     ],
     "language": "python",
     "metadata": {},
     "outputs": [],
     "prompt_number": 2
    },
    {
     "cell_type": "code",
     "collapsed": false,
     "input": [
      "\"\"\"What are the frequently used words in Pride and Prejudice\"\"\"\n",
      "import string\n",
      "text=string.translate(html,None,string.punctuation)\n",
      "string.punctuation "
     ],
     "language": "python",
     "metadata": {},
     "outputs": [
      {
       "metadata": {},
       "output_type": "pyout",
       "prompt_number": 4,
       "text": [
        "'!\"#$%&\\'()*+,-./:;<=>?@[\\\\]^_`{|}~'"
       ]
      }
     ],
     "prompt_number": 4
    },
    {
     "cell_type": "code",
     "collapsed": false,
     "input": [
      "text=text.lower() \"\"\""
     ],
     "language": "python",
     "metadata": {},
     "outputs": [],
     "prompt_number": 9
    },
    {
     "cell_type": "code",
     "collapsed": false,
     "input": [
      "s=\"asd the aht\"\n"
     ],
     "language": "python",
     "metadata": {},
     "outputs": [],
     "prompt_number": 13
    },
    {
     "cell_type": "code",
     "collapsed": false,
     "input": [
      "s.split"
     ],
     "language": "python",
     "metadata": {},
     "outputs": [
      {
       "metadata": {},
       "output_type": "pyout",
       "prompt_number": 14,
       "text": [
        "<function split>"
       ]
      }
     ],
     "prompt_number": 14
    },
    {
     "cell_type": "code",
     "collapsed": false,
     "input": [
      "s.split()"
     ],
     "language": "python",
     "metadata": {},
     "outputs": [
      {
       "metadata": {},
       "output_type": "pyout",
       "prompt_number": 15,
       "text": [
        "['asd', 'the', 'aht']"
       ]
      }
     ],
     "prompt_number": 15
    },
    {
     "cell_type": "code",
     "collapsed": false,
     "input": [
      "text=text.split()"
     ],
     "language": "python",
     "metadata": {},
     "outputs": [],
     "prompt_number": 18
    },
    {
     "cell_type": "code",
     "collapsed": false,
     "input": [
      "len(text)"
     ],
     "language": "python",
     "metadata": {},
     "outputs": [
      {
       "metadata": {},
       "output_type": "pyout",
       "prompt_number": 21,
       "text": [
        "124539"
       ]
      }
     ],
     "prompt_number": 21
    },
    {
     "cell_type": "code",
     "collapsed": false,
     "input": [
      "def test_word():\n",
      "    words= [ \"eat\", \"sleep\", \"read\",\"sleep\", \"sleep\",\"eat\"]\n",
      "    wc= word_count(words)\n",
      "    assert(wc[\"eat\"==2])"
     ],
     "language": "python",
     "metadata": {},
     "outputs": [],
     "prompt_number": 28
    },
    {
     "cell_type": "code",
     "collapsed": false,
     "input": [
      "def word_count(words):\n",
      "    \"\"\"return the dictionary of the counting word\"\"\"\n",
      "    wc={}\n",
      "    for word in words:\n",
      "        wc[word]=wc.get(word,0)+1\n",
      "    return wc"
     ],
     "language": "python",
     "metadata": {},
     "outputs": [],
     "prompt_number": 31
    },
    {
     "cell_type": "code",
     "collapsed": false,
     "input": [
      "wc=word_count(text)"
     ],
     "language": "python",
     "metadata": {},
     "outputs": [],
     "prompt_number": 32
    },
    {
     "cell_type": "code",
     "collapsed": false,
     "input": [
      "wc[\"miss\"]"
     ],
     "language": "python",
     "metadata": {},
     "outputs": [
      {
       "metadata": {},
       "output_type": "pyout",
       "prompt_number": 36,
       "text": [
        "283"
       ]
      }
     ],
     "prompt_number": 36
    },
    {
     "cell_type": "code",
     "collapsed": false,
     "input": [
      "import operator \n",
      "sorted (wc.iteritems(),key=operator.itemgetter(1), reverse=True)[:10]"
     ],
     "language": "python",
     "metadata": {},
     "outputs": [
      {
       "metadata": {},
       "output_type": "pyout",
       "prompt_number": 38,
       "text": [
        "[('the', 4495),\n",
        " ('to', 4207),\n",
        " ('of', 3715),\n",
        " ('and', 3602),\n",
        " ('her', 2215),\n",
        " ('i', 2051),\n",
        " ('a', 1996),\n",
        " ('in', 1919),\n",
        " ('was', 1844),\n",
        " ('she', 1704)]"
       ]
      }
     ],
     "prompt_number": 38
    },
    {
     "cell_type": "code",
     "collapsed": false,
     "input": [],
     "language": "python",
     "metadata": {},
     "outputs": []
    }
   ],
   "metadata": {}
  }
 ]
}