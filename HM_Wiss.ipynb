{
 "metadata": {
  "name": "",
  "signature": "sha256:4e9d51b2fffae5147dfaf12a64f3741c5d3164438ce4dd834f94169e8aaa2215"
 },
 "nbformat": 3,
 "nbformat_minor": 0,
 "worksheets": [
  {
   "cells": [
    {
     "cell_type": "code",
     "collapsed": false,
     "input": [
      "with open('/Users/Gaoang/Downloads/states.txt') as f:\n",
      "        xs=[line.strip() for line in f if line.startswith('New')]\n",
      "        print xs"
     ],
     "language": "python",
     "metadata": {},
     "outputs": [
      {
       "output_type": "stream",
       "stream": "stdout",
       "text": [
        "['New Jersey', 'New Hampshire', 'New York', 'New Mexico']\n"
       ]
      }
     ],
     "prompt_number": 19
    },
    {
     "cell_type": "code",
     "collapsed": false,
     "input": [
      "with open('/Users/Gaoang/Downloads/states.txt') as f:\n",
      "    for line in f:\n",
      "        state=line.split()\n",
      "        if state[0]=='New':\n",
      "            print line.strip()"
     ],
     "language": "python",
     "metadata": {},
     "outputs": [
      {
       "output_type": "stream",
       "stream": "stdout",
       "text": [
        "New Jersey\n",
        "New Hampshire\n",
        "New York\n",
        "New Mexico\n"
       ]
      },
      {
       "ename": "IndexError",
       "evalue": "list index out of range",
       "output_type": "pyerr",
       "traceback": [
        "\u001b[0;31m---------------------------------------------------------------------------\u001b[0m\n\u001b[0;31mIndexError\u001b[0m                                Traceback (most recent call last)",
        "\u001b[0;32m<ipython-input-7-34fed123c0c5>\u001b[0m in \u001b[0;36m<module>\u001b[0;34m()\u001b[0m\n\u001b[1;32m      2\u001b[0m     \u001b[0;32mfor\u001b[0m \u001b[0mline\u001b[0m \u001b[0;32min\u001b[0m \u001b[0mf\u001b[0m\u001b[0;34m:\u001b[0m\u001b[0;34m\u001b[0m\u001b[0m\n\u001b[1;32m      3\u001b[0m         \u001b[0mstate\u001b[0m\u001b[0;34m=\u001b[0m\u001b[0mline\u001b[0m\u001b[0;34m.\u001b[0m\u001b[0msplit\u001b[0m\u001b[0;34m(\u001b[0m\u001b[0;34m)\u001b[0m\u001b[0;34m\u001b[0m\u001b[0m\n\u001b[0;32m----> 4\u001b[0;31m         \u001b[0;32mif\u001b[0m \u001b[0mstate\u001b[0m\u001b[0;34m[\u001b[0m\u001b[0;36m0\u001b[0m\u001b[0;34m]\u001b[0m\u001b[0;34m==\u001b[0m\u001b[0;34m'New'\u001b[0m\u001b[0;34m:\u001b[0m\u001b[0;34m\u001b[0m\u001b[0m\n\u001b[0m\u001b[1;32m      5\u001b[0m             \u001b[0;32mprint\u001b[0m \u001b[0mline\u001b[0m\u001b[0;34m.\u001b[0m\u001b[0mstrip\u001b[0m\u001b[0;34m(\u001b[0m\u001b[0;34m)\u001b[0m\u001b[0;34m\u001b[0m\u001b[0m\n",
        "\u001b[0;31mIndexError\u001b[0m: list index out of range"
       ]
      }
     ],
     "prompt_number": 7
    },
    {
     "cell_type": "markdown",
     "metadata": {},
     "source": [
      "Dertimine the format, then write a program that allows the user to enter a US President's name and get a list of all justices appointed by the President. Note that your program should support partial searches"
     ]
    },
    {
     "cell_type": "code",
     "collapsed": false,
     "input": [
      "import pandas as pd\n",
      "justices=pd.read_csv('/Users/Gaoang/Downloads/justices.txt',header=None)\n",
      "name=raw_input('The name is:').upper()\n",
      "for i in range(0,justices.shape[0]):\n",
      "    if justices.ix[i,2].upper().count(name)==1:\n",
      "        print justices.ix[i,0]+\" \"+justices.ix[i,1]"
     ],
     "language": "python",
     "metadata": {},
     "outputs": [
      {
       "name": "stdout",
       "output_type": "stream",
       "stream": "stdout",
       "text": [
        "The name is:BenjamiN\n"
       ]
      },
      {
       "output_type": "stream",
       "stream": "stdout",
       "text": [
        "David Brewer\n",
        "Henry Brown\n",
        "Howell Jackson\n",
        "George Shiras\n"
       ]
      },
      {
       "ename": "AttributeError",
       "evalue": "'float' object has no attribute 'upper'",
       "output_type": "pyerr",
       "traceback": [
        "\u001b[0;31m---------------------------------------------------------------------------\u001b[0m\n\u001b[0;31mAttributeError\u001b[0m                            Traceback (most recent call last)",
        "\u001b[0;32m<ipython-input-63-5546132f5862>\u001b[0m in \u001b[0;36m<module>\u001b[0;34m()\u001b[0m\n\u001b[1;32m      3\u001b[0m \u001b[0mname\u001b[0m\u001b[0;34m=\u001b[0m\u001b[0mraw_input\u001b[0m\u001b[0;34m(\u001b[0m\u001b[0;34m'The name is:'\u001b[0m\u001b[0;34m)\u001b[0m\u001b[0;34m.\u001b[0m\u001b[0mupper\u001b[0m\u001b[0;34m(\u001b[0m\u001b[0;34m)\u001b[0m\u001b[0;34m\u001b[0m\u001b[0m\n\u001b[1;32m      4\u001b[0m \u001b[0;32mfor\u001b[0m \u001b[0mi\u001b[0m \u001b[0;32min\u001b[0m \u001b[0mrange\u001b[0m\u001b[0;34m(\u001b[0m\u001b[0;36m0\u001b[0m\u001b[0;34m,\u001b[0m\u001b[0mjustices\u001b[0m\u001b[0;34m.\u001b[0m\u001b[0mshape\u001b[0m\u001b[0;34m[\u001b[0m\u001b[0;36m0\u001b[0m\u001b[0;34m]\u001b[0m\u001b[0;34m)\u001b[0m\u001b[0;34m:\u001b[0m\u001b[0;34m\u001b[0m\u001b[0m\n\u001b[0;32m----> 5\u001b[0;31m     \u001b[0;32mif\u001b[0m \u001b[0mjustices\u001b[0m\u001b[0;34m.\u001b[0m\u001b[0mix\u001b[0m\u001b[0;34m[\u001b[0m\u001b[0mi\u001b[0m\u001b[0;34m,\u001b[0m\u001b[0;36m2\u001b[0m\u001b[0;34m]\u001b[0m\u001b[0;34m.\u001b[0m\u001b[0mupper\u001b[0m\u001b[0;34m(\u001b[0m\u001b[0;34m)\u001b[0m\u001b[0;34m.\u001b[0m\u001b[0mcount\u001b[0m\u001b[0;34m(\u001b[0m\u001b[0mname\u001b[0m\u001b[0;34m)\u001b[0m\u001b[0;34m==\u001b[0m\u001b[0;36m1\u001b[0m\u001b[0;34m:\u001b[0m\u001b[0;34m\u001b[0m\u001b[0m\n\u001b[0m\u001b[1;32m      6\u001b[0m         \u001b[0;32mprint\u001b[0m \u001b[0mjustices\u001b[0m\u001b[0;34m.\u001b[0m\u001b[0mix\u001b[0m\u001b[0;34m[\u001b[0m\u001b[0mi\u001b[0m\u001b[0;34m,\u001b[0m\u001b[0;36m0\u001b[0m\u001b[0;34m]\u001b[0m\u001b[0;34m+\u001b[0m\u001b[0;34m\" \"\u001b[0m\u001b[0;34m+\u001b[0m\u001b[0mjustices\u001b[0m\u001b[0;34m.\u001b[0m\u001b[0mix\u001b[0m\u001b[0;34m[\u001b[0m\u001b[0mi\u001b[0m\u001b[0;34m,\u001b[0m\u001b[0;36m1\u001b[0m\u001b[0;34m]\u001b[0m\u001b[0;34m\u001b[0m\u001b[0m\n\u001b[1;32m      7\u001b[0m \u001b[0;34m\u001b[0m\u001b[0m\n",
        "\u001b[0;31mAttributeError\u001b[0m: 'float' object has no attribute 'upper'"
       ]
      }
     ],
     "prompt_number": 63
    },
    {
     "cell_type": "markdown",
     "metadata": {},
     "source": [
      "The file USStates.txt contains a list of each US state ordered by the date that the state joined the union. Using this file along with the justices.txt file, write a program that prints out the names of states that have never produced a Supreme Court justice. Here is sample output of such a program:"
     ]
    },
    {
     "cell_type": "code",
     "collapsed": false,
     "input": [
      "usstates=pd.read_csv('/Users/Gaoang/Downloads/usstates.txt',header=None)\n",
      "for i in range(0,usstates.shape[0]):\n",
      "    if usstates.ix[i,1] not in list(justices.ix[:,3]):\n",
      "        print usstates.ix[i,0]"
     ],
     "language": "python",
     "metadata": {},
     "outputs": [
      {
       "output_type": "stream",
       "stream": "stdout",
       "text": [
        "Delaware\n",
        "Rhode Island\n",
        "Arkansas\n",
        "Florida\n",
        "Wisconsin\n",
        "Oregon\n",
        "West Virginia\n",
        "Nevada\n",
        "Nebraska\n",
        "North Dakota\n",
        "South Dakota\n",
        "Montana\n",
        "Washington\n",
        "Idaho\n",
        "Utah\n",
        "Oklahoma\n",
        "New Mexico\n",
        "Alaska\n",
        "Hawaii\n"
       ]
      }
     ],
     "prompt_number": 187
    },
    {
     "cell_type": "markdown",
     "metadata": {},
     "source": [
      "The file usstates.json contains JSON-formatted data about each of the US states. It is the same data from the previous exercises, just reformatted for JSON. Write a program that will calculate the population density for each state and then list out the states and their population densities in descending order. "
     ]
    },
    {
     "cell_type": "code",
     "collapsed": false,
     "input": [
      "! cat /Users/Gaoang/Downloads/usstates.json.py"
     ],
     "language": "python",
     "metadata": {},
     "outputs": [
      {
       "output_type": "stream",
       "stream": "stdout",
       "text": [
        "{\"WA\": {\"name\": \"Washington\", \"pop\": \"6070000\", \"area\": \"71303\"}, \"DE\": {\"name\": \"Delaware\", \"pop\": \"759000\", \"area\": \"1954\"}, \"WI\": {\"name\": \"Wisconsin\", \"pop\": \"5381000\", \"area\": \"54310\"}, \"WV\": {\"name\": \"West Virginia\", \"pop\": \"1840000\", \"area\": \"24078\"}, \"HI\": {\"name\": \"Hawaii\", \"pop\": \"1327000\", \"area\": \"6423\"}, \"FL\": {\"name\": \"Florida\", \"pop\": \"15313000\", \"area\": \"53927\"}, \"WY\": {\"name\": \"Wyoming\", \"pop\": \"522000\", \"area\": \"97818\"}, \"NH\": {\"name\": \"New Hampshire\", \"pop\": \"1165000\", \"area\": \"8968\"}, \"NJ\": {\"name\": \"New Jersey\", \"pop\": \"8135000\", \"area\": \"7417\"}, \"NM\": {\"name\": \"New Mexico\", \"pop\": \"1823000\", \"area\": \"121598\"}, \"TX\": {\"name\": \"Texas\", \"pop\": \"20039000\", \"area\": \"261797\"}, \"LA\": {\"name\": \"Louisiana\", \"pop\": \"4478000\", \"area\": \"43562\"}, \"AK\": {\"name\": \"Alaska\", \"pop\": \"699000\", \"area\": \"571951\"}, \"NC\": {\"name\": \"North Carolina\", \"pop\": \"7617000\", \"area\": \"48711\"}, \"ND\": {\"name\": \"North Dakota\", \"pop\": \"643000\", \"area\": \"70704\"}, \"NE\": {\"name\": \"Nebraska\", \"pop\": \"1704000\", \"area\": \"76872\"}, \"TN\": {\"name\": \"Tennessee\", \"pop\": \"5538000\", \"area\": \"41217\"}, \"NY\": {\"name\": \"New York\", \"pop\": \"18237000\", \"area\": \"47214\"}, \"PA\": {\"name\": \"Pennsylvania\", \"pop\": \"12296000\", \"area\": \"44817\"}, \"RI\": {\"name\": \"Rhode Island\", \"pop\": \"998000\", \"area\": \"1045\"}, \"NV\": {\"name\": \"Nevada\", \"pop\": \"1691000\", \"area\": \"109826\"}, \"VA\": {\"name\": \"Virginia\", \"pop\": \"7048000\", \"area\": \"39594\"}, \"CO\": {\"name\": \"Colorado\", \"pop\": \"4059000\", \"area\": \"104100\"}, \"CA\": {\"name\": \"California\", \"pop\": \"34888000\", \"area\": \"155959\"}, \"AL\": {\"name\": \"Alabama\", \"pop\": \"4485000\", \"area\": \"50744\"}, \"AR\": {\"name\": \"Arkansas\", \"pop\": \"2578000\", \"area\": \"52068\"}, \"VT\": {\"name\": \"Vermont\", \"pop\": \"592000\", \"area\": \"9250\"}, \"IL\": {\"name\": \"Illinois\", \"pop\": \"12168000\", \"area\": \"55584\"}, \"GA\": {\"name\": \"Georgia\", \"pop\": \"7637000\", \"area\": \"57906\"}, \"IN\": {\"name\": \"Indiana\", \"pop\": \"6045000\", \"area\": \"35867\"}, \"IA\": {\"name\": \"Iowa\", \"pop\": \"2930000\", \"area\": \"55869\"}, \"OK\": {\"name\": \"Oklahoma\", \"pop\": \"3382000\", \"area\": \"69903\"}, \"AZ\": {\"name\": \"Arizona\", \"pop\": \"4437000\", \"area\": \"113635\"}, \"ID\": {\"name\": \"Idaho\", \"pop\": \"1290000\", \"area\": \"83574\"}, \"CT\": {\"name\": \"Connecticut\", \"pop\": \"3271000\", \"area\": \"4845\"}, \"ME\": {\"name\": \"Maine\", \"pop\": \"1240000\", \"area\": \"60862\"}, \"MD\": {\"name\": \"Maryland\", \"pop\": \"5322000\", \"area\": \"9774\"}, \"MA\": {\"name\": \"Massachusetts\", \"pop\": \"5950000\", \"area\": \"7840\"}, \"OH\": {\"name\": \"Ohio\", \"pop\": \"11453000\", \"area\": \"40948\"}, \"UT\": {\"name\": \"Utah\", \"pop\": \"2148000\", \"area\": \"84904\"}, \"MO\": {\"name\": \"Missouri\", \"pop\": \"5458562\", \"area\": \"69704\"}, \"MN\": {\"name\": \"Minnesota\", \"pop\": \"4828000\", \"area\": \"79610\"}, \"MI\": {\"name\": \"Michigan\", \"pop\": \"9759000\", \"area\": \"56804\"}, \"KS\": {\"name\": \"Kansas\", \"pop\": \"2722000\", \"area\": \"81815\"}, \"MT\": {\"name\": \"Montana\", \"pop\": \"920000\", \"area\": \"147046\"}, \"MS\": {\"name\": \"Mississippi\", \"pop\": \"2750000\", \"area\": \"46907\"}, \"SC\": {\"name\": \"South Carolina\", \"pop\": \"3932000\", \"area\": \"30109\"}, \"KY\": {\"name\": \"Kentucky\", \"pop\": \"3989000\", \"area\": \"39728\"}, \"OR\": {\"name\": \"Oregon\", \"pop\": \"3404000\", \"area\": \"95997\"}, \"SD\": {\"name\": \"South Dakota\", \"pop\": \"770000\", \"area\": \"77121\"}}\r",
        "\r\n"
       ]
      }
     ],
     "prompt_number": 195
    },
    {
     "cell_type": "code",
     "collapsed": false,
     "input": [
      "with open('/Users/Gaoang/Downloads/usstates.json.py') as f:\n",
      "    val=f.readline()\n",
      "    mess=json.loads(val)\n",
      "    for i in mess.keys():\n",
      "        print mess[i]['name'],round(float(mess[i]['pop'])/float(mess[i]['area']),2)"
     ],
     "language": "python",
     "metadata": {},
     "outputs": [
      {
       "output_type": "stream",
       "stream": "stdout",
       "text": [
        "Washington 85.13\n",
        "Delaware 388.43\n",
        "Wisconsin 99.08\n",
        "West Virginia 76.42\n",
        "Hawaii 206.6\n",
        "Florida 283.96\n",
        "Wyoming 5.34\n",
        "New Hampshire 129.91\n",
        "New Jersey 1096.8\n",
        "New Mexico 14.99\n",
        "Texas 76.54\n",
        "Louisiana 102.8\n",
        "North Carolina 156.37\n",
        "North Dakota 9.09\n",
        "Nebraska 22.17\n",
        "Tennessee 134.36\n",
        "New York 386.26\n",
        "Pennsylvania 274.36\n",
        "Rhode Island 955.02\n",
        "Nevada 15.4\n",
        "Virginia 178.01\n",
        "Colorado 38.99\n",
        "Alaska 1.22\n",
        "Alabama 88.38\n",
        "Arkansas 49.51\n",
        "Vermont 64.0\n",
        "Illinois 218.91\n",
        "Georgia 131.89\n",
        "Indiana 168.54\n",
        "Iowa 52.44\n",
        "Massachusetts 758.93\n",
        "Arizona 39.05\n",
        "California 223.7\n",
        "Idaho 15.44\n",
        "Connecticut 675.13\n",
        "Maine 20.37\n",
        "Maryland 544.51\n",
        "Oklahoma 48.38\n",
        "Ohio 279.7\n",
        "Utah 25.3\n",
        "Missouri 78.31\n",
        "Minnesota 60.65\n",
        "Michigan 171.8\n",
        "Kansas 33.27\n",
        "Montana 6.26\n",
        "Mississippi 58.63\n",
        "South Carolina 130.59\n",
        "Kentucky 100.41\n",
        "Oregon 35.46\n",
        "South Dakota 9.98\n"
       ]
      }
     ],
     "prompt_number": 171
    },
    {
     "cell_type": "code",
     "collapsed": false,
     "input": [
      "! cat /Users/Gaoang/Downloads/minneapolis.json.py"
     ],
     "language": "python",
     "metadata": {},
     "outputs": [
      {
       "output_type": "stream",
       "stream": "stdout",
       "text": [
        "{\"message\":\"\",\"cod\":\"200\",\"city_id\":5037649,\"calctime\":0.4938,\"cnt\":48,\"list\":[{\"main\":{\"temp\":301.15,\"humidity\":43,\"pressure\":1011,\"temp_min\":299.82,\"temp_max\":302.59},\"wind\":{\"speed\":1.54,\"gust\":2.06,\"deg\":45},\"clouds\":{\"all\":0},\"weather\":[{\"id\":800,\"main\":\"Clear\",\"description\":\"Sky is Clear\",\"icon\":\"01n\"}],\"dt\":1403396630},{\"main\":{\"temp\":300.93,\"pressure\":1012,\"humidity\":39,\"temp_min\":298.71,\"temp_max\":302.59},\"wind\":{\"speed\":2.6,\"deg\":110},\"clouds\":{\"all\":1},\"weather\":[{\"id\":800,\"main\":\"Clear\",\"description\":\"sky is clear\",\"icon\":\"01n\"}],\"dt\":1403396672},{\"main\":{\"temp\":299.83,\"pressure\":1011,\"humidity\":54,\"temp_min\":298.15,\"temp_max\":301.15},\"wind\":{\"speed\":1.5,\"deg\":90},\"clouds\":{\"all\":1},\"weather\":[{\"id\":800,\"main\":\"Clear\",\"description\":\"sky is clear\",\"icon\":\"01n\"}],\"dt\":1403400223},{\"main\":{\"temp\":300.07,\"pressure\":1010,\"temp_min\":298.71,\"temp_max\":301.48,\"humidity\":50},\"wind\":{\"speed\":0.51,\"gust\":1.54,\"deg\":130},\"clouds\":{\"all\":0},\"weather\":[{\"id\":800,\"main\":\"Clear\",\"description\":\"Sky is Clear\",\"icon\":\"01n\"}],\"dt\":1403400281},{\"main\":{\"temp\":298.27,\"pressure\":1012,\"humidity\":60,\"temp_min\":294.82,\"temp_max\":301.15},\"wind\":{\"speed\":3.81,\"deg\":92.5024},\"clouds\":{\"all\":1},\"weather\":[{\"id\":800,\"main\":\"Clear\",\"description\":\"sky is clear\",\"icon\":\"01n\"}],\"dt\":1403403862},{\"main\":{\"temp\":297.89,\"pressure\":1012,\"humidity\":60,\"temp_min\":295.15,\"temp_max\":300.37},\"wind\":{\"speed\":1.5,\"deg\":100},\"clouds\":{\"all\":1},\"weather\":[{\"id\":800,\"main\":\"Clear\",\"description\":\"sky is clear\",\"icon\":\"01n\"}],\"dt\":1403403899},{\"main\":{\"temp\":295.02,\"pressure\":1012,\"humidity\":68,\"temp_min\":292.59,\"temp_max\":297.59},\"wind\":{\"speed\":3.81,\"deg\":92.5024},\"clouds\":{\"all\":1},\"weather\":[{\"id\":800,\"main\":\"Clear\",\"description\":\"sky is clear\",\"icon\":\"01n\"}],\"dt\":1403407452},{\"main\":{\"temp\":295.38,\"pressure\":1011,\"temp_min\":292.59,\"temp_max\":298.15,\"humidity\":53},\"wind\":{\"speed\":1.03,\"gust\":2.57,\"deg\":91},\"clouds\":{\"all\":8},\"weather\":[{\"id\":800,\"main\":\"Clear\",\"description\":\"sky is clear\",\"icon\":\"02n\"}],\"dt\":1403407488},{\"main\":{\"temp\":294.42,\"pressure\":1012,\"temp_min\":292.04,\"temp_max\":297.04,\"humidity\":53},\"wind\":{\"speed\":3.81,\"deg\":92.5024},\"clouds\":{\"all\":8},\"weather\":[{\"id\":800,\"main\":\"Clear\",\"description\":\"sky is clear\",\"icon\":\"02n\"}],\"dt\":1403411194},{\"main\":{\"temp\":294.3,\"humidity\":66,\"pressure\":1009.9,\"temp_min\":292.04,\"temp_max\":295.93},\"wind\":{\"speed\":3.81,\"deg\":92.5024},\"clouds\":{\"all\":8},\"weather\":[{\"id\":800,\"main\":\"Clear\",\"description\":\"sky is clear\",\"icon\":\"02n\"}],\"dt\":1403411266},{\"main\":{\"temp\":293.94,\"pressure\":1013,\"humidity\":77,\"temp_min\":292.04,\"temp_max\":296.15},\"wind\":{\"speed\":3.96,\"deg\":112.001},\"clouds\":{\"all\":1},\"weather\":[{\"id\":800,\"main\":\"Clear\",\"description\":\"sky is clear\",\"icon\":\"01n\"}],\"dt\":1403414649},{\"main\":{\"temp\":293.85,\"pressure\":1013,\"humidity\":77,\"temp_min\":291.48,\"temp_max\":296.15},\"wind\":{\"speed\":3.96,\"deg\":112.001},\"clouds\":{\"all\":1},\"weather\":[{\"id\":800,\"main\":\"Clear\",\"description\":\"sky is clear\",\"icon\":\"01n\"}],\"dt\":1403414680},{\"main\":{\"temp\":292.9,\"pressure\":1013,\"humidity\":77,\"temp_min\":290.93,\"temp_max\":294.82},\"wind\":{\"speed\":3.96,\"deg\":112.001},\"clouds\":{\"all\":1},\"weather\":[{\"id\":800,\"main\":\"Clear\",\"description\":\"sky is clear\",\"icon\":\"01n\"}],\"dt\":1403418276},{\"main\":{\"temp\":293.21,\"humidity\":78,\"pressure\":1012,\"temp_min\":290.93,\"temp_max\":295.15},\"wind\":{\"speed\":3.96,\"deg\":112.001},\"clouds\":{\"all\":0},\"weather\":[{\"id\":800,\"main\":\"Clear\",\"description\":\"Sky is Clear\",\"icon\":\"01n\"}],\"dt\":1403418298},{\"main\":{\"temp\":292.26,\"pressure\":1011,\"temp_min\":289.82,\"temp_max\":294.26,\"humidity\":59},\"wind\":{\"speed\":3.96,\"deg\":112.001},\"clouds\":{\"all\":0},\"weather\":[{\"id\":800,\"main\":\"Clear\",\"description\":\"Sky is Clear\",\"icon\":\"01n\"}],\"dt\":1403421825},{\"main\":{\"temp\":292.2,\"pressure\":1012,\"humidity\":88,\"temp_min\":290.37,\"temp_max\":294.26},\"wind\":{\"speed\":3.96,\"deg\":112.001},\"clouds\":{\"all\":1},\"weather\":[{\"id\":800,\"main\":\"Clear\",\"description\":\"sky is clear\",\"icon\":\"01n\"}],\"dt\":1403421853},{\"main\":{\"temp\":291.51,\"pressure\":1011,\"humidity\":93,\"temp_min\":289.82,\"temp_max\":293.15},\"wind\":{\"speed\":3.1,\"deg\":70},\"clouds\":{\"all\":1},\"weather\":[{\"id\":800,\"main\":\"Clear\",\"description\":\"sky is clear\",\"icon\":\"01n\"}],\"dt\":1403425428},{\"main\":{\"temp\":291.51,\"pressure\":1011,\"humidity\":93,\"temp_min\":289.82,\"temp_max\":293.15},\"wind\":{\"speed\":3.1,\"deg\":70},\"clouds\":{\"all\":1},\"weather\":[{\"id\":800,\"main\":\"Clear\",\"description\":\"sky is clear\",\"icon\":\"01n\"}],\"dt\":1403425462},{\"main\":{\"temp\":291.26,\"pressure\":1011,\"humidity\":93,\"temp_min\":289.82,\"temp_max\":293.15},\"wind\":{\"speed\":4.32,\"deg\":121.5},\"clouds\":{\"all\":1},\"weather\":[{\"id\":800,\"main\":\"Clear\",\"description\":\"sky is clear\",\"icon\":\"01n\"}],\"dt\":1403429019},{\"main\":{\"temp\":291.26,\"pressure\":1011,\"humidity\":93,\"temp_min\":289.82,\"temp_max\":293.15},\"wind\":{\"speed\":4.32,\"deg\":121.5},\"clouds\":{\"all\":1},\"weather\":[{\"id\":800,\"main\":\"Clear\",\"description\":\"sky is clear\",\"icon\":\"01n\"}],\"dt\":1403429047},{\"main\":{\"temp\":290.86,\"pressure\":1011,\"humidity\":93,\"temp_min\":289.26,\"temp_max\":292.15},\"wind\":{\"speed\":1.76,\"deg\":146.001},\"clouds\":{\"all\":1},\"weather\":[{\"id\":800,\"main\":\"Clear\",\"description\":\"sky is clear\",\"icon\":\"01n\"}],\"dt\":1403432620},{\"main\":{\"temp\":290.86,\"pressure\":1011,\"humidity\":93,\"temp_min\":289.26,\"temp_max\":292.15},\"wind\":{\"speed\":1.76,\"deg\":146.001},\"clouds\":{\"all\":1},\"weather\":[{\"id\":800,\"main\":\"Clear\",\"description\":\"sky is clear\",\"icon\":\"01n\"}],\"dt\":1403432657},{\"main\":{\"temp\":291.14,\"pressure\":1011,\"humidity\":88,\"temp_min\":289.82,\"temp_max\":292.15},\"wind\":{\"speed\":3.38,\"deg\":165.5},\"clouds\":{\"all\":1},\"weather\":[{\"id\":800,\"main\":\"Clear\",\"description\":\"sky is clear\",\"icon\":\"01d\"}],\"dt\":1403436208},{\"main\":{\"temp\":291.09,\"humidity\":91,\"pressure\":1011,\"temp_min\":289.82,\"temp_max\":292.15},\"wind\":{\"speed\":3.38,\"deg\":165.5},\"clouds\":{\"all\":0},\"weather\":[{\"id\":800,\"main\":\"Clear\",\"description\":\"Sky is Clear\",\"icon\":\"01d\"}],\"dt\":1403436253},{\"main\":{\"temp\":291.84,\"pressure\":1007,\"temp_min\":290.37,\"temp_max\":293.65,\"humidity\":74},\"wind\":{\"speed\":0.51,\"gust\":2.06,\"deg\":90},\"clouds\":{\"all\":0},\"weather\":[{\"id\":800,\"main\":\"Clear\",\"description\":\"Sky is Clear\",\"icon\":\"01d\"}],\"dt\":1403439821},{\"main\":{\"temp\":292.3,\"pressure\":1011,\"humidity\":82,\"temp_min\":290.37,\"temp_max\":294.15},\"wind\":{\"speed\":3.38,\"deg\":165.5},\"clouds\":{\"all\":1},\"weather\":[{\"id\":800,\"main\":\"Clear\",\"description\":\"sky is clear\",\"icon\":\"01d\"}],\"dt\":1403439849},{\"main\":{\"temp\":293.5,\"pressure\":1012,\"humidity\":77,\"temp_min\":290.93,\"temp_max\":295.93},\"wind\":{\"speed\":3.38,\"deg\":165.5},\"clouds\":{\"all\":40},\"weather\":[{\"id\":802,\"main\":\"Clouds\",\"description\":\"scattered clouds\",\"icon\":\"03d\"}],\"dt\":1403443419},{\"main\":{\"temp\":293.54,\"pressure\":1012,\"humidity\":77,\"temp_min\":290.93,\"temp_max\":295.93},\"wind\":{\"speed\":3.38,\"deg\":165.5},\"clouds\":{\"all\":40},\"weather\":[{\"id\":802,\"main\":\"Clouds\",\"description\":\"scattered clouds\",\"icon\":\"03d\"}],\"dt\":1403443456},{\"main\":{\"temp\":294.77,\"pressure\":1012,\"humidity\":73,\"temp_min\":292.59,\"temp_max\":297.15},\"wind\":{\"speed\":2.1,\"deg\":290},\"clouds\":{\"all\":90},\"weather\":[{\"id\":211,\"main\":\"Thunderstorm\",\"description\":\"proximity thunderstorm\",\"icon\":\"11d\"}],\"dt\":1403447028},{\"main\":{\"temp\":294.82,\"pressure\":1012,\"humidity\":73,\"temp_min\":292.59,\"temp_max\":297.15},\"wind\":{\"speed\":2.1,\"deg\":290},\"clouds\":{\"all\":90},\"weather\":[{\"id\":211,\"main\":\"Thunderstorm\",\"description\":\"proximity thunderstorm\",\"icon\":\"11d\"}],\"dt\":1403447071},{\"main\":{\"temp\":295.97,\"pressure\":1007,\"temp_min\":293.15,\"temp_max\":298.45,\"humidity\":60},\"wind\":{\"speed\":1.54,\"gust\":3.6,\"deg\":202},\"clouds\":{\"all\":8},\"weather\":[{\"id\":211,\"main\":\"Thunderstorm\",\"description\":\"proximity thunderstorm\",\"icon\":\"11d\"}],\"dt\":1403450629},{\"main\":{\"temp\":295.97,\"humidity\":74,\"pressure\":1007,\"temp_min\":293.15,\"temp_max\":298.45},\"wind\":{\"speed\":0.51,\"deg\":197},\"clouds\":{\"all\":8},\"weather\":[{\"id\":211,\"main\":\"Thunderstorm\",\"description\":\"proximity thunderstorm\",\"icon\":\"11d\"}],\"dt\":1403450661},{\"main\":{\"temp\":296,\"humidity\":87,\"pressure\":1011,\"temp_min\":292.59,\"temp_max\":298.71},\"wind\":{\"speed\":4.01,\"deg\":183.004},\"clouds\":{\"all\":8},\"weather\":[{\"id\":501,\"main\":\"Rain\",\"description\":\"moderate rain\",\"icon\":\"10d\"},{\"id\":211,\"main\":\"Thunderstorm\",\"description\":\"thunderstorm\",\"icon\":\"11d\"}],\"rain\":{\"1h\":2.22},\"dt\":1403454379},{\"main\":{\"temp\":295.94,\"pressure\":1011,\"temp_min\":292.59,\"temp_max\":298.71,\"humidity\":60},\"wind\":{\"speed\":2.57,\"gust\":5.14,\"deg\":169},\"clouds\":{\"all\":8},\"weather\":[{\"id\":501,\"main\":\"Rain\",\"description\":\"moderate rain\",\"icon\":\"10d\"},{\"id\":211,\"main\":\"Thunderstorm\",\"description\":\"thunderstorm\",\"icon\":\"11d\"}],\"rain\":{\"1h\":2.22},\"dt\":1403454411},{\"main\":{\"temp\":294.97,\"humidity\":88,\"pressure\":1011,\"temp_min\":292.15,\"temp_max\":298.71},\"wind\":{\"speed\":5.11,\"deg\":191.504},\"clouds\":{\"all\":12},\"weather\":[{\"id\":501,\"main\":\"Rain\",\"description\":\"moderate rain\",\"icon\":\"10d\"},{\"id\":211,\"main\":\"Thunderstorm\",\"description\":\"proximity thunderstorm\",\"icon\":\"11d\"}],\"rain\":{\"1h\":3.24},\"dt\":1403457844},{\"main\":{\"temp\":295.46,\"pressure\":1011,\"humidity\":73,\"temp_min\":293.15,\"temp_max\":298.71},\"wind\":{\"speed\":3.6,\"deg\":20},\"clouds\":{\"all\":40},\"weather\":[{\"id\":521,\"main\":\"Rain\",\"description\":\"proximity shower rain\",\"icon\":\"09d\"}],\"rain\":{\"1h\":3.38},\"dt\":1403457880},{\"main\":{\"temp\":295.9,\"pressure\":1011,\"humidity\":64,\"temp_min\":293.15,\"temp_max\":298.15},\"wind\":{\"speed\":1.5,\"deg\":110},\"clouds\":{\"all\":1},\"weather\":[{\"id\":500,\"main\":\"Rain\",\"description\":\"light rain\",\"icon\":\"10d\"}],\"rain\":{\"1h\":0.51},\"dt\":1403461448},{\"main\":{\"temp\":295.47,\"pressure\":1010,\"temp_min\":293.15,\"temp_max\":297.59,\"humidity\":55},\"wind\":{\"speed\":5.11,\"deg\":191.504},\"clouds\":{\"all\":12},\"weather\":[{\"id\":500,\"main\":\"Rain\",\"description\":\"light rain\",\"icon\":\"10d\"}],\"rain\":{\"1h\":0.51},\"dt\":1403461475},{\"main\":{\"temp\":296.38,\"pressure\":1010,\"temp_min\":294.15,\"temp_max\":298.15,\"humidity\":55},\"wind\":{\"speed\":0.51,\"gust\":1.54,\"deg\":92},\"clouds\":{\"all\":12},\"weather\":[{\"id\":500,\"main\":\"Rain\",\"description\":\"light rain\",\"icon\":\"10d\"}],\"rain\":{\"1h\":0.51},\"dt\":1403465045},{\"main\":{\"temp\":296.39,\"pressure\":1011,\"humidity\":61,\"temp_min\":294.15,\"temp_max\":298.15},\"wind\":{\"speed\":2.6,\"deg\":60},\"clouds\":{\"all\":75},\"weather\":[{\"id\":500,\"main\":\"Rain\",\"description\":\"light rain\",\"icon\":\"10d\"}],\"rain\":{\"1h\":0.51},\"dt\":1403465082},{\"main\":{\"temp\":295.49,\"pressure\":1011,\"humidity\":61,\"temp_min\":293.15,\"temp_max\":298.15},\"wind\":{\"speed\":3.6,\"deg\":70},\"clouds\":{\"all\":40},\"weather\":[{\"id\":500,\"main\":\"Rain\",\"description\":\"light rain\",\"icon\":\"10d\"}],\"rain\":{\"1h\":0.93},\"dt\":1403468651},{\"main\":{\"temp\":295.39,\"pressure\":1011,\"humidity\":61,\"temp_min\":293.15,\"temp_max\":298.15},\"wind\":{\"speed\":3.6,\"deg\":70},\"clouds\":{\"all\":40},\"weather\":[{\"id\":500,\"main\":\"Rain\",\"description\":\"light rain\",\"icon\":\"10d\"}],\"rain\":{\"1h\":0.93},\"dt\":1403468680},{\"main\":{\"temp\":295.42,\"pressure\":1011,\"humidity\":73,\"temp_min\":292.59,\"temp_max\":298.15},\"wind\":{\"speed\":3.6,\"deg\":90},\"clouds\":{\"all\":40},\"weather\":[{\"id\":502,\"main\":\"Rain\",\"description\":\"heavy intensity rain\",\"icon\":\"10d\"}],\"rain\":{\"1h\":4.06},\"dt\":1403472231},{\"main\":{\"temp\":295.42,\"pressure\":1011,\"humidity\":73,\"temp_min\":292.59,\"temp_max\":298.15},\"wind\":{\"speed\":3.6,\"deg\":90},\"clouds\":{\"all\":40},\"weather\":[{\"id\":502,\"main\":\"Rain\",\"description\":\"heavy intensity rain\",\"icon\":\"10d\"}],\"rain\":{\"1h\":4.06},\"dt\":1403472270},{\"main\":{\"temp\":295.74,\"pressure\":1011,\"humidity\":69,\"temp_min\":293.15,\"temp_max\":298.15},\"wind\":{\"speed\":3.6,\"deg\":110},\"clouds\":{\"all\":40},\"weather\":[{\"id\":501,\"main\":\"Rain\",\"description\":\"moderate rain\",\"icon\":\"10d\"}],\"rain\":{\"1h\":0.25},\"dt\":1403475827},{\"main\":{\"temp\":295.74,\"pressure\":1011,\"humidity\":69,\"temp_min\":293.15,\"temp_max\":298.15},\"wind\":{\"speed\":3.6,\"deg\":110},\"clouds\":{\"all\":40},\"weather\":[{\"id\":501,\"main\":\"Rain\",\"description\":\"moderate rain\",\"icon\":\"10d\"}],\"rain\":{\"1h\":0.25},\"dt\":1403475860},{\"main\":{\"temp\":296.2,\"pressure\":1011,\"humidity\":69,\"temp_min\":294.26,\"temp_max\":298.25},\"wind\":{\"speed\":2.1,\"deg\":130},\"clouds\":{\"all\":40},\"weather\":[{\"id\":802,\"main\":\"Clouds\",\"description\":\"scattered clouds\",\"icon\":\"03d\"}],\"rain\":{\"3h\":0},\"dt\":1403479422},{\"main\":{\"temp\":296.22,\"pressure\":1011,\"humidity\":69,\"temp_min\":294.26,\"temp_max\":298.25},\"wind\":{\"speed\":2.1,\"deg\":130},\"clouds\":{\"all\":40},\"weather\":[{\"id\":802,\"main\":\"Clouds\",\"description\":\"scattered clouds\",\"icon\":\"03d\"}],\"rain\":{\"3h\":0},\"dt\":1403479463}]}\r",
        "\r\n",
        "\r",
        "\r\n"
       ]
      }
     ],
     "prompt_number": 15
    },
    {
     "cell_type": "code",
     "collapsed": false,
     "input": [
      "with open('/Users/Gaoang/Downloads/minneapolis.json.py') as f:\n",
      "    val=f.readline()\n",
      "    minne=json.loads(val)\n"
     ],
     "language": "python",
     "metadata": {},
     "outputs": [
      {
       "ename": "TypeError",
       "evalue": "list indices must be integers, not str",
       "output_type": "pyerr",
       "traceback": [
        "\u001b[0;31m---------------------------------------------------------------------------\u001b[0m\n\u001b[0;31mTypeError\u001b[0m                                 Traceback (most recent call last)",
        "\u001b[0;32m<ipython-input-198-860af6960a71>\u001b[0m in \u001b[0;36m<module>\u001b[0;34m()\u001b[0m\n\u001b[1;32m      2\u001b[0m     \u001b[0mval\u001b[0m\u001b[0;34m=\u001b[0m\u001b[0mf\u001b[0m\u001b[0;34m.\u001b[0m\u001b[0mreadline\u001b[0m\u001b[0;34m(\u001b[0m\u001b[0;34m)\u001b[0m\u001b[0;34m\u001b[0m\u001b[0m\n\u001b[1;32m      3\u001b[0m     \u001b[0mminne\u001b[0m\u001b[0;34m=\u001b[0m\u001b[0mjson\u001b[0m\u001b[0;34m.\u001b[0m\u001b[0mloads\u001b[0m\u001b[0;34m(\u001b[0m\u001b[0mval\u001b[0m\u001b[0;34m)\u001b[0m\u001b[0;34m\u001b[0m\u001b[0m\n\u001b[0;32m----> 4\u001b[0;31m     \u001b[0;32mprint\u001b[0m \u001b[0mminne\u001b[0m\u001b[0;34m[\u001b[0m\u001b[0;34m\"list\"\u001b[0m\u001b[0;34m]\u001b[0m\u001b[0;34m[\u001b[0m\u001b[0;34m'clouds'\u001b[0m\u001b[0;34m]\u001b[0m\u001b[0;34m\u001b[0m\u001b[0m\n\u001b[0m",
        "\u001b[0;31mTypeError\u001b[0m: list indices must be integers, not str"
       ]
      }
     ],
     "prompt_number": 198
    }
   ],
   "metadata": {}
  }
 ]
}